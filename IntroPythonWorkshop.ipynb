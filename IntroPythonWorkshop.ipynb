{
  "nbformat": 4,
  "nbformat_minor": 0,
  "metadata": {
    "colab": {
      "provenance": [],
      "authorship_tag": "ABX9TyOljuPOQ0Ysq5sCQijmWLQK",
      "include_colab_link": true
    },
    "kernelspec": {
      "name": "python3",
      "display_name": "Python 3"
    },
    "language_info": {
      "name": "python"
    }
  },
  "cells": [
    {
      "cell_type": "markdown",
      "metadata": {
        "id": "view-in-github",
        "colab_type": "text"
      },
      "source": [
        "<a href=\"https://colab.research.google.com/github/pagssud/intro-programming-workshop/blob/main/IntroPythonWorkshop.ipynb\" target=\"_parent\"><img src=\"https://colab.research.google.com/assets/colab-badge.svg\" alt=\"Open In Colab\"/></a>"
      ]
    },
    {
      "cell_type": "markdown",
      "source": [
        "# **Brief Introduction**\n",
        "\n",
        "Python is a programming language used to tell a computer how to do things. It takes input from the user and converts it to \"computer language\" such that these user-provided commands can be executed. Some advantages to python over other languages are it's both easy to use and well documented.\n",
        "\n",
        "One of the hardest parts about python (or programming in any language really!) is setting up your environment such that the software can \"talk\" to your computer and other libraries necessary to run your code. Luckily Google offers a free python notebook interface known as [Google Colab](https://colab.research.google.com/) which requires no setup other than a Google account. These notebooks are saved directly in your Google Drive and we will use this method of programming for the introductory workshop. This eliminates the hassle of setting up python environments in different operating systems. \n",
        "\n"
      ],
      "metadata": {
        "id": "LF9va966J9Z9"
      }
    },
    {
      "cell_type": "markdown",
      "source": [
        "# **Basics**\n",
        "\n",
        "Python has many uses, one of which is just a simple calculator.\n",
        "\n",
        "**NOTE:** Since we are using a notebook interface there are different code \"cells\" which need to be executed in order for the code to run. To run a code cell, click on that cell and press `Shift + Enter`. Or you can click on the cell and select the `Runtime` menu option at the top of the page, which will open a selection of options to choose from."
      ],
      "metadata": {
        "id": "BRof-k8KMfwj"
      }
    },
    {
      "cell_type": "code",
      "execution_count": null,
      "metadata": {
        "id": "qMSXXQPb-KcO",
        "colab": {
          "base_uri": "https://localhost:8080/"
        },
        "outputId": "dff7d1a1-875e-4526-9234-c1e4f4754764"
      },
      "outputs": [
        {
          "output_type": "execute_result",
          "data": {
            "text/plain": [
              "4"
            ]
          },
          "metadata": {},
          "execution_count": 1
        }
      ],
      "source": [
        "2 + 2"
      ]
    },
    {
      "cell_type": "markdown",
      "source": [
        "Another use is printing output to the notebook/terminal through use of the `print()` function. This function is a great way to test and debug your programs."
      ],
      "metadata": {
        "id": "T_ZSFmhnPkJA"
      }
    },
    {
      "cell_type": "code",
      "source": [
        "print(\"Hello World!\")"
      ],
      "metadata": {
        "colab": {
          "base_uri": "https://localhost:8080/"
        },
        "id": "vXPHwt5CQxrG",
        "outputId": "f821d325-12d9-4dc5-883f-13edb2a00c47"
      },
      "execution_count": null,
      "outputs": [
        {
          "output_type": "stream",
          "name": "stdout",
          "text": [
            "Hello World!\n"
          ]
        }
      ]
    },
    {
      "cell_type": "markdown",
      "source": [
        "In python notebooks, multiple lines of code can be written in the code boxes and then executed at once. This allows you to perform multiple calculations in one go. Although, only the last command will be printed to the notebook."
      ],
      "metadata": {
        "id": "_nXU_lbjM3BY"
      }
    },
    {
      "cell_type": "code",
      "source": [
        "4 - 3\n",
        "5 * 10"
      ],
      "metadata": {
        "colab": {
          "base_uri": "https://localhost:8080/"
        },
        "id": "KcL1pe7SMtib",
        "outputId": "f5045c1d-f6ee-46ad-abec-fe16b248535a"
      },
      "execution_count": null,
      "outputs": [
        {
          "output_type": "execute_result",
          "data": {
            "text/plain": [
              "50"
            ]
          },
          "metadata": {},
          "execution_count": 3
        }
      ]
    },
    {
      "cell_type": "markdown",
      "source": [
        "If you want to suppress all outputs then use a semicolon, `;`, at the end of the command."
      ],
      "metadata": {
        "id": "otxn3W8wNLzR"
      }
    },
    {
      "cell_type": "code",
      "source": [
        "4 - 3\n",
        "5 * 10;"
      ],
      "metadata": {
        "id": "P-7wirEsNEkD"
      },
      "execution_count": null,
      "outputs": []
    },
    {
      "cell_type": "markdown",
      "source": [
        "Python also follows the order of operations (PEDMAS)"
      ],
      "metadata": {
        "id": "6QKppnqashoK"
      }
    },
    {
      "cell_type": "code",
      "source": [
        "(3 + 2) * 4"
      ],
      "metadata": {
        "colab": {
          "base_uri": "https://localhost:8080/"
        },
        "id": "-iDTWrfbspu3",
        "outputId": "af60f497-63f7-487d-c73b-0680950c62af"
      },
      "execution_count": null,
      "outputs": [
        {
          "output_type": "execute_result",
          "data": {
            "text/plain": [
              "20"
            ]
          },
          "metadata": {},
          "execution_count": 5
        }
      ]
    },
    {
      "cell_type": "markdown",
      "source": [
        "In python, raising a value to an exponent is done using `**`."
      ],
      "metadata": {
        "id": "qte2nO9HNdJt"
      }
    },
    {
      "cell_type": "code",
      "source": [
        "2 ** 3"
      ],
      "metadata": {
        "colab": {
          "base_uri": "https://localhost:8080/"
        },
        "id": "aOp9vd6FNaYZ",
        "outputId": "de6cea61-54a9-4ae3-84cc-6e913d27cf81"
      },
      "execution_count": null,
      "outputs": [
        {
          "output_type": "execute_result",
          "data": {
            "text/plain": [
              "8"
            ]
          },
          "metadata": {},
          "execution_count": 6
        }
      ]
    },
    {
      "cell_type": "markdown",
      "source": [
        "We can also define \"variables\" in python which are saved in the computers memory and can be accessed for later use in your code. Below `x` is considered a variable."
      ],
      "metadata": {
        "id": "UnQq36nVN_m6"
      }
    },
    {
      "cell_type": "code",
      "source": [
        "x = 3\n",
        "2 ** x"
      ],
      "metadata": {
        "colab": {
          "base_uri": "https://localhost:8080/"
        },
        "id": "831vXUcVN0DF",
        "outputId": "f6651396-72ff-4396-b355-69eec7af5bd7"
      },
      "execution_count": null,
      "outputs": [
        {
          "output_type": "execute_result",
          "data": {
            "text/plain": [
              "8"
            ]
          },
          "metadata": {},
          "execution_count": 7
        }
      ]
    },
    {
      "cell_type": "markdown",
      "source": [
        "Although you must be careful with variable definitions and the \"scope\" of your variables. Scope means the area of the code where your variables are accessible, but this is an advanced topic and will not be discussed until later.\n"
      ],
      "metadata": {
        "id": "SYrX5UYvOUWR"
      }
    },
    {
      "cell_type": "code",
      "source": [
        "a = 4\n",
        "b = a\n",
        "print(\"b =\", b, \"   a =\", a)\n",
        "\n",
        "a = 6\n",
        "print(\"b =\", b, \"   a =\", a)"
      ],
      "metadata": {
        "colab": {
          "base_uri": "https://localhost:8080/"
        },
        "id": "rE_tzUvtORkl",
        "outputId": "4e2b81d4-4a75-468d-a5aa-ca7fa5e34f22"
      },
      "execution_count": null,
      "outputs": [
        {
          "output_type": "stream",
          "name": "stdout",
          "text": [
            "b = 4    a = 4\n",
            "b = 4    a = 6\n"
          ]
        }
      ]
    },
    {
      "cell_type": "markdown",
      "source": [
        "Here even though `b` was defined as `a` changing the value of `a` did not change `b`. This is because in the computer memory `b` was stored as the VALUE of `a` but NOT as the variable `a` itself.\n",
        "\n",
        "This can be confusing at first but with time it will become easier to understand :)\n",
        "\n",
        "**NOTE:** Defining variables like `b = a` and then changing the value of `a` later in the code is poor programming and should not be done!"
      ],
      "metadata": {
        "id": "POv-NATuSaYR"
      }
    },
    {
      "cell_type": "markdown",
      "source": [
        "Division in python is also possible, with two different kinds. There is regular division (`/`) and division which discards any portion of the answer after the decimal (`//`). This second type is known as floor division. "
      ],
      "metadata": {
        "id": "w7XQb0P1pbvB"
      }
    },
    {
      "cell_type": "code",
      "source": [
        "print(9 / 4)\n",
        "print(9 // 4)"
      ],
      "metadata": {
        "colab": {
          "base_uri": "https://localhost:8080/"
        },
        "id": "pdw0mL8cRe9N",
        "outputId": "a2bb920f-983c-4d3c-d680-2acc52517f1c"
      },
      "execution_count": null,
      "outputs": [
        {
          "output_type": "stream",
          "name": "stdout",
          "text": [
            "2.25\n",
            "2\n"
          ]
        }
      ]
    },
    {
      "cell_type": "markdown",
      "source": [
        "Note that regular and floor division return the same value if there is no remainder, although there are very slight differences in the output which are extremely important for python and programming in general..."
      ],
      "metadata": {
        "id": "oZfsCWkKs1vE"
      }
    },
    {
      "cell_type": "code",
      "source": [
        "print(9 / 3)\n",
        "print(9 // 3)"
      ],
      "metadata": {
        "colab": {
          "base_uri": "https://localhost:8080/"
        },
        "id": "o2LBbUA6sZ2l",
        "outputId": "64beada7-8d50-4110-dea5-924eb2830b1e"
      },
      "execution_count": null,
      "outputs": [
        {
          "output_type": "stream",
          "name": "stdout",
          "text": [
            "3.0\n",
            "3\n"
          ]
        }
      ]
    },
    {
      "cell_type": "markdown",
      "source": [
        "Why are there differences here? Because these two outputs are two different data types."
      ],
      "metadata": {
        "id": "6439Uy9HtTxE"
      }
    },
    {
      "cell_type": "markdown",
      "source": [
        "# **Data Types**\n",
        "\n",
        "In programming, there are many different data types including integers, floats, doubles, and booleans just to name a few. Each programming language has their own subtleties about different data types, including data types which may only exist in that language.\n",
        "\n",
        "Here we will discuss the python data types of integers (`int`), single-precision floats (`float32`), double-precision floats (`float64`), strings (`str`), complex numbers (`complex`), and booleans (`bool`)."
      ],
      "metadata": {
        "id": "V2PCYzOGtuYq"
      }
    },
    {
      "cell_type": "markdown",
      "source": [
        "Let's investigate the differences in the output from regular and floor division. We will use python's `type()` function to return the data type of the variables."
      ],
      "metadata": {
        "id": "NJJpwjyd0wde"
      }
    },
    {
      "cell_type": "code",
      "source": [
        "num = 9\n",
        "denom = 3\n",
        "\n",
        "regOutput = num / denom\n",
        "floorOutput = num // denom\n",
        "\n",
        "print(regOutput, \" type: \", type(regOutput) )\n",
        "print(floorOutput, \"   type: \", type(floorOutput) )"
      ],
      "metadata": {
        "colab": {
          "base_uri": "https://localhost:8080/"
        },
        "id": "X5yEDRjks0rN",
        "outputId": "2e5f0fd1-45b0-40a9-eec3-e925f2a0c4bf"
      },
      "execution_count": null,
      "outputs": [
        {
          "output_type": "stream",
          "name": "stdout",
          "text": [
            "3.0  type:  <class 'float'>\n",
            "3    type:  <class 'int'>\n"
          ]
        }
      ]
    },
    {
      "cell_type": "markdown",
      "source": [
        "The data type returned for the regular divison is just labeled as a `float`. So what is the difference between single-precision floats and double-precision floats?\n",
        "\n",
        "Single-precision floats contain 7 decimal digits of precision and take up 32 bits of storage in the computer memory (hence the `32` in `float32`). Double-precision floats contain 15 decimal digits of precision and take up 64 bits of storage.\n",
        "\n",
        "Double-precision floats require more computer memory to be used during execution of your code. Therefore, the user must be careful when working with large sets of double-precision data as this can slow down your code execution. \n",
        "\n",
        "Due to the intrinsic precision of floats you have to be careful of computer round-off errors."
      ],
      "metadata": {
        "id": "EhbvHWHe2UeN"
      }
    },
    {
      "cell_type": "markdown",
      "source": [
        "**NOTE:** It is good practice to add comments to your code so that you know what each part does. This is especially important when you come back to the code in a few months or if your code is being read by someone else. Your future self and others will thank you!\n",
        "\n",
        "To add comments, just put a hashtag (`#`) at the beginning of the line. Commented lines will not be executed when the code is run."
      ],
      "metadata": {
        "id": "MsVICt4R8n6f"
      }
    },
    {
      "cell_type": "code",
      "source": [
        "# Define a double-precision float\n",
        "value = 2.000000000000007\n",
        "\n",
        "# Now add a very very small number\n",
        "newValue = value + 0.00000000000000005\n",
        "\n",
        "print(value)\n",
        "print(newValue)"
      ],
      "metadata": {
        "colab": {
          "base_uri": "https://localhost:8080/"
        },
        "id": "o51EEeQus8VQ",
        "outputId": "aff94982-7cc5-400d-ffea-6e36a4abc13c"
      },
      "execution_count": null,
      "outputs": [
        {
          "output_type": "stream",
          "name": "stdout",
          "text": [
            "2.000000000000007\n",
            "2.000000000000007\n"
          ]
        }
      ]
    },
    {
      "cell_type": "markdown",
      "source": [
        "Adding the very very small number did nothing due to the intrinsic precision of the computer. The topic of round-off error and potential ways to avoid problems from this subtlety will be covered in more detail in PHYS660."
      ],
      "metadata": {
        "id": "qJrjQFNZ9l8I"
      }
    },
    {
      "cell_type": "markdown",
      "source": [
        "Define `int` data types by just defining your variable as a number. Define `float` data types by inserting a `.` after the number. "
      ],
      "metadata": {
        "id": "P4_QIz0j_nv2"
      }
    },
    {
      "cell_type": "code",
      "source": [
        "# Define an int\n",
        "c = 7\n",
        "\n",
        "# Define a float\n",
        "d = 7.\n",
        "\n",
        "# Print the data types to see explicitly\n",
        "print( type(c) )\n",
        "print( type(d) )"
      ],
      "metadata": {
        "colab": {
          "base_uri": "https://localhost:8080/"
        },
        "id": "NNaVawPd9UCA",
        "outputId": "c1e8561a-e50f-4af7-c670-10c41eef94ac"
      },
      "execution_count": null,
      "outputs": [
        {
          "output_type": "stream",
          "name": "stdout",
          "text": [
            "<class 'int'>\n",
            "<class 'float'>\n"
          ]
        }
      ]
    },
    {
      "cell_type": "markdown",
      "source": [
        "`str` data types are defined by placing any collection of text, numbers, or words within either single or double quotes (`''` or `\"\"`)."
      ],
      "metadata": {
        "id": "wGNu9YKCAaBk"
      }
    },
    {
      "cell_type": "code",
      "source": [
        "string1 = 'This is a string.'\n",
        "string2 = \"This is also a string!\"\n",
        "\n",
        "# Strings can also contain numbers\n",
        "string3 = \"A str1ng w1th numb3r5.\"\n",
        "\n",
        "# Strings can just be numbers themselves\n",
        "string4 = \"3\"\n",
        "\n",
        "# Check these are all strings\n",
        "print( type(string1), type(string2), type(string3), type(string4) )"
      ],
      "metadata": {
        "colab": {
          "base_uri": "https://localhost:8080/"
        },
        "id": "v_k4VAmaAYIe",
        "outputId": "dd9718ff-0732-4014-cb2b-8d5ced7d6704"
      },
      "execution_count": null,
      "outputs": [
        {
          "output_type": "stream",
          "name": "stdout",
          "text": [
            "<class 'str'> <class 'str'> <class 'str'> <class 'str'>\n"
          ]
        }
      ]
    },
    {
      "cell_type": "markdown",
      "source": [
        "`str` dat types can also be defined on multiple lines through use of the `\\` character"
      ],
      "metadata": {
        "id": "v5xq2O64Oepw"
      }
    },
    {
      "cell_type": "code",
      "source": [
        "# Define a string on multiple lines\n",
        "multiLineString = 'I can define' \\\n",
        "' a string on' \\\n",
        "' multiple lines!'\n",
        "\n",
        "print(multiLineString)"
      ],
      "metadata": {
        "colab": {
          "base_uri": "https://localhost:8080/"
        },
        "id": "VAjmuZtQOlJ2",
        "outputId": "760cf039-0a1a-4da7-d987-bcc510656bf5"
      },
      "execution_count": null,
      "outputs": [
        {
          "output_type": "stream",
          "name": "stdout",
          "text": [
            "I can define a string on multiple lines!\n"
          ]
        }
      ]
    },
    {
      "cell_type": "markdown",
      "source": [
        "You can also convert between `int`, `float`, and `str` data types if the value can be represented as another data type. Conversions are made using the `int()`, `float()`, and `str()` python functions respectively."
      ],
      "metadata": {
        "id": "NRd5tM5rBpal"
      }
    },
    {
      "cell_type": "code",
      "source": [
        "# Define an integer, float, and a string\n",
        "intVal = 10\n",
        "floatVal = 33.06\n",
        "strVal = \"6.5\"\n",
        "\n",
        "# Convert integer to string\n",
        "intToStr = str(intVal)\n",
        "\n",
        "# Convert float to integer (will cut off decimal points)\n",
        "floatToInt = int(floatVal)\n",
        "\n",
        "# Convert string to float\n",
        "strToFloat = float(strVal)\n",
        "\n",
        "# Output original and converted values\n",
        "print(\"Original (int):   \", intVal, \"     Converted to string: \", intToStr)\n",
        "print(\"Original (float): \", floatVal, \"  Converted to integer: \", floatToInt)\n",
        "print(\"Original (str):   \", strVal, \"    Converted to float: \", strToFloat)"
      ],
      "metadata": {
        "colab": {
          "base_uri": "https://localhost:8080/"
        },
        "id": "Mpbq9s-JBnpM",
        "outputId": "0623603d-0318-4c16-b7bb-dcc67f997e3a"
      },
      "execution_count": null,
      "outputs": [
        {
          "output_type": "stream",
          "name": "stdout",
          "text": [
            "Original (int):    10      Converted to string:  10\n",
            "Original (float):  33.06   Converted to integer:  33\n",
            "Original (str):    6.5     Converted to float:  6.5\n"
          ]
        }
      ]
    },
    {
      "cell_type": "markdown",
      "source": [
        "If we try to convert a `str` of words to a `float` or `int` then python will error because this is not possible."
      ],
      "metadata": {
        "id": "yqnnY30PDtEf"
      }
    },
    {
      "cell_type": "code",
      "source": [
        "name = \"Brandon\"\n",
        "\n",
        "convertName = float(name)"
      ],
      "metadata": {
        "colab": {
          "base_uri": "https://localhost:8080/",
          "height": 202
        },
        "id": "SKdpGBsLDa-U",
        "outputId": "b5d385cf-db58-418d-a261-318e01c267b5"
      },
      "execution_count": null,
      "outputs": [
        {
          "output_type": "error",
          "ename": "ValueError",
          "evalue": "ignored",
          "traceback": [
            "\u001b[0;31m---------------------------------------------------------------------------\u001b[0m",
            "\u001b[0;31mValueError\u001b[0m                                Traceback (most recent call last)",
            "\u001b[0;32m<ipython-input-17-0404973efea0>\u001b[0m in \u001b[0;36m<module>\u001b[0;34m\u001b[0m\n\u001b[1;32m      1\u001b[0m \u001b[0mname\u001b[0m \u001b[0;34m=\u001b[0m \u001b[0;34m\"Brandon\"\u001b[0m\u001b[0;34m\u001b[0m\u001b[0;34m\u001b[0m\u001b[0m\n\u001b[1;32m      2\u001b[0m \u001b[0;34m\u001b[0m\u001b[0m\n\u001b[0;32m----> 3\u001b[0;31m \u001b[0mconvertName\u001b[0m \u001b[0;34m=\u001b[0m \u001b[0mfloat\u001b[0m\u001b[0;34m(\u001b[0m\u001b[0mname\u001b[0m\u001b[0;34m)\u001b[0m\u001b[0;34m\u001b[0m\u001b[0;34m\u001b[0m\u001b[0m\n\u001b[0m",
            "\u001b[0;31mValueError\u001b[0m: could not convert string to float: 'Brandon'"
          ]
        }
      ]
    },
    {
      "cell_type": "markdown",
      "source": [
        "**NOTE:** When an error occurs in Google colab, there will be a button after the error which says `SEARCH STACK OVERFLOW`. Clicking on this button will initiate a Google search for this specific error and only compiling the results from the [Stack Overflow website](https://stackoverflow.com/). Stack overflow is a great website for looking up programming questions for python or other languages; however, as with all online forums, sometimes people can be toxic."
      ],
      "metadata": {
        "id": "rh7Rvl-hS0oc"
      }
    },
    {
      "cell_type": "markdown",
      "source": [
        "Complex numbers can also be defined in python but are done using `j` instead of the typical `i` used in physics. So for complex numbers in python you have to think like an electrical engineer..."
      ],
      "metadata": {
        "id": "v2N_oyhmSOiF"
      }
    },
    {
      "cell_type": "code",
      "source": [
        "# Define a complex number with both real and complex components\n",
        "z = 4 + 2j\n",
        "\n",
        "print(z)\n",
        "print( type(z) )"
      ],
      "metadata": {
        "colab": {
          "base_uri": "https://localhost:8080/"
        },
        "id": "LN9IGojTSce1",
        "outputId": "ba0256c0-7091-4e7c-82e1-ff8006ba7fd2"
      },
      "execution_count": null,
      "outputs": [
        {
          "output_type": "stream",
          "name": "stdout",
          "text": [
            "(4+2j)\n",
            "<class 'complex'>\n"
          ]
        }
      ]
    },
    {
      "cell_type": "markdown",
      "source": [
        "Many people use `j` as a variable in their loops (discussed later) so using `j` in your code as a complex number may hinder readability and cause issues which are hard to debug.\n",
        "\n",
        "Instead you can define complex numbers with python's `complex()` function, which takes the real part of the number as the first argument and the imaginary part as a second argument. \n",
        "\n",
        "**NOTE:** The terminal output of a complex number will always represent the complex component of the value with `j`, no matter how you define the complex number."
      ],
      "metadata": {
        "id": "h3KZd2jxTp43"
      }
    },
    {
      "cell_type": "code",
      "source": [
        "# Define a complex number in python using complex()\n",
        "x = 5\n",
        "y = 3\n",
        "\n",
        "# Function calls like so -> complex(REAL_PART, IMAG_PART)\n",
        "z = complex(x, y)\n",
        "\n",
        "print(z)\n",
        "print( type(z) )"
      ],
      "metadata": {
        "colab": {
          "base_uri": "https://localhost:8080/"
        },
        "id": "nU4koucyTx1-",
        "outputId": "10670390-e964-4c46-ddec-3018f6a70d51"
      },
      "execution_count": null,
      "outputs": [
        {
          "output_type": "stream",
          "name": "stdout",
          "text": [
            "(5+3j)\n",
            "<class 'complex'>\n"
          ]
        }
      ]
    },
    {
      "cell_type": "markdown",
      "source": [
        "You can find both the real and complex components of a variable individually using built in python methods."
      ],
      "metadata": {
        "id": "Y1CmjNEaS-tI"
      }
    },
    {
      "cell_type": "code",
      "source": [
        "re = z.real\n",
        "im = z.imag\n",
        "\n",
        "print(\"Re[z]: \", re)\n",
        "print(\"Im[z]: \", im)"
      ],
      "metadata": {
        "colab": {
          "base_uri": "https://localhost:8080/"
        },
        "id": "hDHtvRNZWBCd",
        "outputId": "5cc95237-91a6-4229-a472-dc97cfb67446"
      },
      "execution_count": null,
      "outputs": [
        {
          "output_type": "stream",
          "name": "stdout",
          "text": [
            "Re[z]:  5.0\n",
            "Im[z]:  3.0\n"
          ]
        }
      ]
    },
    {
      "cell_type": "markdown",
      "source": [
        "The built in methods of `real` and `imag` are \"[class objects](https://docs.python.org/3/tutorial/classes.html#class-objects)\" only accessible for the `complex` data type. Each data type in python is saved as a certain python \"class\", hence why the output from `type()` is always of the form `<class 'DATA_TYPE'>`.\n",
        "\n",
        "Class variables are too advanced a topic for this workskhop, and much too advanced for the needs of PHYS660. However, they are necessary to learn if you wish to become a python expert."
      ],
      "metadata": {
        "id": "WteeYXUyWU1Q"
      }
    },
    {
      "cell_type": "markdown",
      "source": [
        "Using everything we have learned so far, attempt to find the magnitude of the complex number `z = 20.43 + 5.99j`.\n",
        "\n",
        "There are many ways to find the answer. None are right or wrong but some methods are more readable and/or efficient than others."
      ],
      "metadata": {
        "id": "gvKe1Kj8XTcz"
      }
    },
    {
      "cell_type": "code",
      "source": [
        "# Define the complex number\n",
        "z = complex(20.43, 5.99)\n",
        "\n",
        "# Now find the amplitude here...\n",
        "\n",
        "\n",
        "# Print the result to the notebook\n",
        "print(YOUR_RESULT)"
      ],
      "metadata": {
        "id": "Ql-l9yM-XoAR"
      },
      "execution_count": null,
      "outputs": []
    },
    {
      "cell_type": "markdown",
      "source": [
        "Boolean variables (`bool`) are either `True` or `False` and are typically used for comparison between values/variables in python. Comparison between values/variables in python is done using the following commands...\n",
        "\n",
        "`>` -> greater than\n",
        "\n",
        "`<` -> less than\n",
        "\n",
        "`>=` -> greater than or equal to\n",
        "\n",
        "`<=` -> less than or equal to\n",
        "\n",
        "`==` -> equal to\n",
        "\n",
        "`&`, `and` -> and, used to see if multiple conditions are true\n",
        "\n",
        "`|`, `or` -> or, used to see if one of multiple conditions is true"
      ],
      "metadata": {
        "id": "mGQuslCCPKP7"
      }
    },
    {
      "cell_type": "code",
      "source": [
        "5 > 3"
      ],
      "metadata": {
        "id": "K_INxW17EC2W",
        "colab": {
          "base_uri": "https://localhost:8080/"
        },
        "outputId": "fd2ddc1f-ed68-434f-f398-af651ceab767"
      },
      "execution_count": null,
      "outputs": [
        {
          "output_type": "execute_result",
          "data": {
            "text/plain": [
              "True"
            ]
          },
          "metadata": {},
          "execution_count": 21
        }
      ]
    },
    {
      "cell_type": "code",
      "source": [
        "400 < 6"
      ],
      "metadata": {
        "colab": {
          "base_uri": "https://localhost:8080/"
        },
        "id": "WjfyMqJrQhLb",
        "outputId": "9a3f714f-6e5c-45f6-b931-ae84a31cdeae"
      },
      "execution_count": null,
      "outputs": [
        {
          "output_type": "execute_result",
          "data": {
            "text/plain": [
              "False"
            ]
          },
          "metadata": {},
          "execution_count": 22
        }
      ]
    },
    {
      "cell_type": "code",
      "source": [
        "x = 10\n",
        "y = 12\n",
        "\n",
        "# See if x and y are equal, will return a boolean answer\n",
        "x == y"
      ],
      "metadata": {
        "colab": {
          "base_uri": "https://localhost:8080/"
        },
        "id": "HvIRus45RjyQ",
        "outputId": "e8a4e3bf-26a5-48ec-fff4-341529ebe926"
      },
      "execution_count": null,
      "outputs": [
        {
          "output_type": "execute_result",
          "data": {
            "text/plain": [
              "False"
            ]
          },
          "metadata": {},
          "execution_count": 23
        }
      ]
    },
    {
      "cell_type": "code",
      "source": [
        "# Try multiple condition statements with \"and\"\n",
        "(x > 5) and (y < 9) "
      ],
      "metadata": {
        "colab": {
          "base_uri": "https://localhost:8080/"
        },
        "id": "EfZxAbQORz8W",
        "outputId": "eec1f32a-f251-435e-b823-267675e67a5d"
      },
      "execution_count": null,
      "outputs": [
        {
          "output_type": "execute_result",
          "data": {
            "text/plain": [
              "False"
            ]
          },
          "metadata": {},
          "execution_count": 24
        }
      ]
    },
    {
      "cell_type": "code",
      "source": [
        "# Try multiple condition statements with \"or\"\n",
        "(x > 5) or (y < 9) "
      ],
      "metadata": {
        "colab": {
          "base_uri": "https://localhost:8080/"
        },
        "id": "jCvgLvZ-YfY-",
        "outputId": "974b3d5f-cd7d-4155-a02e-ea44627dc69d"
      },
      "execution_count": null,
      "outputs": [
        {
          "output_type": "execute_result",
          "data": {
            "text/plain": [
              "True"
            ]
          },
          "metadata": {},
          "execution_count": 25
        }
      ]
    },
    {
      "cell_type": "markdown",
      "source": [
        "In python, `True` is mapped to `1` and `False` is mapped to `0`. This allows for math comparison within your programs.\n",
        "\n",
        "However, some people prefer only using `True` and `False` as this increases the readability for beginners."
      ],
      "metadata": {
        "id": "CfWAFxPnQbUn"
      }
    },
    {
      "cell_type": "code",
      "source": [
        "True == 1"
      ],
      "metadata": {
        "colab": {
          "base_uri": "https://localhost:8080/"
        },
        "id": "xbPxqHUeY25p",
        "outputId": "3785a4f0-27fd-4d3c-a34f-7dbabf0db326"
      },
      "execution_count": null,
      "outputs": [
        {
          "output_type": "execute_result",
          "data": {
            "text/plain": [
              "True"
            ]
          },
          "metadata": {},
          "execution_count": 26
        }
      ]
    },
    {
      "cell_type": "code",
      "source": [
        "False == 0"
      ],
      "metadata": {
        "colab": {
          "base_uri": "https://localhost:8080/"
        },
        "id": "sppqxlsNY47s",
        "outputId": "ea919a00-8164-4b59-e589-bfa0afa19459"
      },
      "execution_count": null,
      "outputs": [
        {
          "output_type": "execute_result",
          "data": {
            "text/plain": [
              "True"
            ]
          },
          "metadata": {},
          "execution_count": 27
        }
      ]
    },
    {
      "cell_type": "markdown",
      "source": [
        "#**Conditional Statements**\n",
        "\n",
        "Python uses these boolean data types within conditional statements known as `if` statements. `if` statements will check the condition supplied to them and then execute the susequent indented code if the condition is passed. If the subsequent code is not indented python will raise an error."
      ],
      "metadata": {
        "id": "_HyPEGBWHGhb"
      }
    },
    {
      "cell_type": "code",
      "source": [
        "x = 45\n",
        "y = 7\n",
        "\n",
        "# If the condition is passed then is will execute the print statement\n",
        "if x > y:\n",
        "  print(\"x is greater than y\")"
      ],
      "metadata": {
        "colab": {
          "base_uri": "https://localhost:8080/"
        },
        "id": "d4H-NuAlIFyM",
        "outputId": "a7f805c8-bb12-41dd-ad77-06f3d638c92e"
      },
      "execution_count": null,
      "outputs": [
        {
          "output_type": "stream",
          "name": "stdout",
          "text": [
            "x is greater than y\n"
          ]
        }
      ]
    },
    {
      "cell_type": "code",
      "source": [
        "# If the condition is not passed then the indented code will not be executed\n",
        "if x < y:\n",
        "  print(\"This should not print!\")"
      ],
      "metadata": {
        "id": "0NzNOpNCKYMk"
      },
      "execution_count": null,
      "outputs": []
    },
    {
      "cell_type": "code",
      "source": [
        "# If the code is not indented then python will error\n",
        "if x > y:\n",
        "print(\"x is greater than y\")"
      ],
      "metadata": {
        "colab": {
          "base_uri": "https://localhost:8080/",
          "height": 132
        },
        "id": "Kw8zourmJdKm",
        "outputId": "c2323738-3fd0-4466-e845-b44d12e34d7d"
      },
      "execution_count": null,
      "outputs": [
        {
          "output_type": "error",
          "ename": "IndentationError",
          "evalue": "ignored",
          "traceback": [
            "\u001b[0;36m  File \u001b[0;32m\"<ipython-input-30-a7ce535b8162>\"\u001b[0;36m, line \u001b[0;32m3\u001b[0m\n\u001b[0;31m    print(\"x is greater than y\")\u001b[0m\n\u001b[0m    ^\u001b[0m\n\u001b[0;31mIndentationError\u001b[0m\u001b[0;31m:\u001b[0m expected an indented block\n"
          ]
        }
      ]
    },
    {
      "cell_type": "markdown",
      "source": [
        "Another conditional keyword is `elif` which is used in tandem with the `if` keyword. `elif` says if the first condition was not true then try another condition. If neither condition is true then nothing will happen."
      ],
      "metadata": {
        "id": "xMpyDrtPJ-pP"
      }
    },
    {
      "cell_type": "code",
      "source": [
        "x = 45\n",
        "y = 7\n",
        "\n",
        "# Here the elif statement's code should be executed \n",
        "if x == y:\n",
        "  print(\"x is equal to y\")\n",
        "elif x > y:\n",
        "  print(\"x is greater than y\") "
      ],
      "metadata": {
        "colab": {
          "base_uri": "https://localhost:8080/"
        },
        "id": "vj_Irt7RKPwt",
        "outputId": "88795955-5168-4f79-f9ef-4627ee0c23c8"
      },
      "execution_count": null,
      "outputs": [
        {
          "output_type": "stream",
          "name": "stdout",
          "text": [
            "x is greater than y\n"
          ]
        }
      ]
    },
    {
      "cell_type": "code",
      "source": [
        "x = 45\n",
        "y = 7\n",
        "\n",
        "# Here neither condition statement's code should be executed \n",
        "if x == y:\n",
        "  print(\"x is equal to y\")\n",
        "elif x < y:\n",
        "  print(\"x is less than y\") "
      ],
      "metadata": {
        "id": "Txa0Qsl2LEQR"
      },
      "execution_count": null,
      "outputs": []
    },
    {
      "cell_type": "markdown",
      "source": [
        "The final conditional statement is the `else` statement. The `else` is used to catch any conditions which were not met by the previous conditional statements. It can be used in with `if` or with both `if` and `elif`."
      ],
      "metadata": {
        "id": "Eo6gkNDOJq5u"
      }
    },
    {
      "cell_type": "code",
      "source": [
        "x = 45\n",
        "y = 7\n",
        "\n",
        "# Here the else statement's code will be executed\n",
        "if x == y:\n",
        "  print(\"x is equal to y\")\n",
        "else:\n",
        "  print(\"x is not equal to y\")\n",
        "\n",
        "# Here again the else statement's code will be executed\n",
        "if x == y:\n",
        "  print(\"x is equal to y\")\n",
        "elif x < y:\n",
        "  print(\"x is less than y\")\n",
        "else:\n",
        "  print(\"x is greater than y\")"
      ],
      "metadata": {
        "colab": {
          "base_uri": "https://localhost:8080/"
        },
        "id": "yedanjKiZ3cB",
        "outputId": "94406011-f9bc-48f5-f6a9-2465a4860406"
      },
      "execution_count": null,
      "outputs": [
        {
          "output_type": "stream",
          "name": "stdout",
          "text": [
            "x is not equal to y\n",
            "x is greater than y\n"
          ]
        }
      ]
    },
    {
      "cell_type": "markdown",
      "source": [
        "Conditional statements are very powerful although one must be careful with the order in which the conditions are presented. See the following example..."
      ],
      "metadata": {
        "id": "p_GS3zkzbT8c"
      }
    },
    {
      "cell_type": "code",
      "source": [
        "x1 = 45\n",
        "y1 = 7\n",
        "\n",
        "x2 = 100\n",
        "y2 = 5\n",
        "\n",
        "# Define a conditional statement w/ multiple conditions\n",
        "if (x1 > y1) or (x2 > y2):\n",
        "  print(\"At least one condition is true\")\n",
        "elif (x1 > y1) and (x2 > y2):\n",
        "  print(\"Both conditions are true\")\n",
        "else:\n",
        "  print(\"Neither condition is true\")"
      ],
      "metadata": {
        "colab": {
          "base_uri": "https://localhost:8080/"
        },
        "id": "_2CB--ZMb6cK",
        "outputId": "d1c05a33-e873-4d52-e5b9-452a33fbbb34"
      },
      "execution_count": null,
      "outputs": [
        {
          "output_type": "stream",
          "name": "stdout",
          "text": [
            "At least one condition is true\n"
          ]
        }
      ]
    },
    {
      "cell_type": "markdown",
      "source": [
        "Here the first condition of `(x1 > y1) or (x2 > y2)` is `True` and therefore that code is executed. However, since that code is executed, the conditional statement is exited. Hence, the `elif` statement is never reached and that code is never executed even though it also is `True`!\n",
        "\n",
        "This is a small subtlety with conditional statements that can lead to hard to track errors and bugs."
      ],
      "metadata": {
        "id": "WUv6feAkcwmb"
      }
    },
    {
      "cell_type": "markdown",
      "source": [
        "`if` statements can also be [nested](https://www.geeksforgeeks.org/nested-if-statement-in-python/), meaning that one `if` statement is inside of another `if` statement. The nested `if` statement must be indented one tab further than its parent `if` statement."
      ],
      "metadata": {
        "id": "sQ6F4qG5oPgg"
      }
    },
    {
      "cell_type": "code",
      "source": [
        "x1 = 45\n",
        "y1 = 7\n",
        "\n",
        "x2 = 100\n",
        "y2 = 5\n",
        "\n",
        "# Define the same conditional statement as before but with nested if statements \n",
        "if (x1 > y1) or (x2 > y2):\n",
        "  print(\"At least one condition is true...\")\n",
        "  if (x1 > y1) and (x2 > y2):\n",
        "    print(\"Actually both conditions are true!\")\n",
        "  else:\n",
        "    print(\"Only one condition is true\")"
      ],
      "metadata": {
        "colab": {
          "base_uri": "https://localhost:8080/"
        },
        "id": "mefnWTGrqMxj",
        "outputId": "759bcbd1-3ca0-43fa-b539-43d7eb62a802"
      },
      "execution_count": null,
      "outputs": [
        {
          "output_type": "stream",
          "name": "stdout",
          "text": [
            "At least one condition is true...\n",
            "Actually both conditions are true!\n"
          ]
        }
      ]
    },
    {
      "cell_type": "markdown",
      "source": [
        "Nested `if` statements allow more flexible options than single conditional statements with multiple conditions (i.e. single `if`, `elif`, `else` statements)."
      ],
      "metadata": {
        "id": "Ufqa9jEEq6io"
      }
    },
    {
      "cell_type": "markdown",
      "source": [
        "# **Lists, Tuples, and Dictionaries Oh My!**\n",
        "\n",
        "Lists, tuples, and dictionaries are all containers used in python to hold sets of data, numbers, variables, strings, etc. All can be used without importing any external libraries."
      ],
      "metadata": {
        "id": "Eqb8VAnVc8A2"
      }
    },
    {
      "cell_type": "markdown",
      "source": [
        "Lists are single dimension data containers which are dynamic in size and mutable, meaning we can change the list and elements within the list after its initial definition. They are defined with `[]` and have many different class objects which are used to perform operations to the list."
      ],
      "metadata": {
        "id": "E3LPNOqaiYp8"
      }
    },
    {
      "cell_type": "code",
      "source": [
        "# Define an empty list\n",
        "myList = []\n",
        "\n",
        "print(\"Empty List: \", myList)\n",
        "\n",
        "# Add values to the list\n",
        "myList.append(65)\n",
        "myList.append(\"String\")\n",
        "myList.append(3.14)\n",
        "\n",
        "print(\"List w/ Values: \", myList)\n",
        "\n",
        "# Remove last value from the list\n",
        "myList.pop()\n",
        "\n",
        "print(\"List After Last Value Removal: \", myList)\n",
        "\n",
        "# You can also define lists already containing values\n",
        "myNewList = [10, 20, 30, 40, 50, 60, 70]\n",
        "\n",
        "print(\"List Already Defined w/ Values: \", myNewList)"
      ],
      "metadata": {
        "colab": {
          "base_uri": "https://localhost:8080/"
        },
        "id": "Qm1wZy1pmGM0",
        "outputId": "75262a32-b06c-4a47-a9a0-f33231ab0a80"
      },
      "execution_count": null,
      "outputs": [
        {
          "output_type": "stream",
          "name": "stdout",
          "text": [
            "Empty List:  []\n",
            "List w/ Values:  [65, 'String', 3.14]\n",
            "List After Last Value Removal:  [65, 'String']\n",
            "List Already Defined w/ Values:  [10, 20, 30, 40, 50, 60, 70]\n"
          ]
        }
      ]
    },
    {
      "cell_type": "markdown",
      "source": [
        "**NOTE:** As we can see above, lists can contain multiple different data types.\n",
        "\n",
        "You can also access individual values within the list by indexing the list. Python lists are zero-indexed, meaning that the first value in a python list has index `0`, the second value has index `1`, and so on."
      ],
      "metadata": {
        "id": "IFqdvsqJnenb"
      }
    },
    {
      "cell_type": "code",
      "source": [
        "# Access the first value of myNewList\n",
        "first = myNewList[0]\n",
        "\n",
        "print(\"First value in list: \", first)\n",
        "\n",
        "# Access the fourth value of myNewList\n",
        "fourth = myNewList[3]\n",
        "\n",
        "print(\"Fourth value in list: \", fourth)\n",
        "\n",
        "# You can access the final value of a list by using index -1\n",
        "last = myNewList[-1]\n",
        "\n",
        "print(\"Final value in list: \", last)"
      ],
      "metadata": {
        "colab": {
          "base_uri": "https://localhost:8080/"
        },
        "id": "VCls5vWApuiC",
        "outputId": "abf84b98-3390-499c-d984-21115806b075"
      },
      "execution_count": null,
      "outputs": [
        {
          "output_type": "stream",
          "name": "stdout",
          "text": [
            "First value in list:  10\n",
            "Fourth value in list:  40\n",
            "Final value in list:  70\n"
          ]
        }
      ]
    },
    {
      "cell_type": "markdown",
      "source": [
        "You can use python's built in `len()` function to find the length of a list (or tuple, or dictionary, etc.). Although, due to the zero-indexing of python lists, the final accessible index in a list will be `len(MY_LIST) - 1`."
      ],
      "metadata": {
        "id": "_yqJENfc7GIK"
      }
    },
    {
      "cell_type": "code",
      "source": [
        "# Get the length of the list\n",
        "lengthList = len(myNewList)\n",
        "\n",
        "print(\"Length of myNewList: \", lengthList)\n",
        "\n",
        "print(\"Final value in myNewList: \", myNewList[lengthList - 1])"
      ],
      "metadata": {
        "colab": {
          "base_uri": "https://localhost:8080/"
        },
        "id": "yYcQN1Cw7mAM",
        "outputId": "c77d9c1b-77dc-4c3d-ee4f-eebf7ad26842"
      },
      "execution_count": null,
      "outputs": [
        {
          "output_type": "stream",
          "name": "stdout",
          "text": [
            "Length of myNewList:  7\n",
            "Final value in myNewList:  70\n"
          ]
        }
      ]
    },
    {
      "cell_type": "markdown",
      "source": [
        "If you try to index a list past its final index then python will yell at you."
      ],
      "metadata": {
        "id": "32oAidKCqaov"
      }
    },
    {
      "cell_type": "code",
      "source": [
        "myNewList[7]"
      ],
      "metadata": {
        "colab": {
          "base_uri": "https://localhost:8080/",
          "height": 167
        },
        "id": "wIVXW0Koqx-t",
        "outputId": "a39a36b7-79c2-4300-9230-a4cb30c0ecaf"
      },
      "execution_count": null,
      "outputs": [
        {
          "output_type": "error",
          "ename": "IndexError",
          "evalue": "ignored",
          "traceback": [
            "\u001b[0;31m---------------------------------------------------------------------------\u001b[0m",
            "\u001b[0;31mIndexError\u001b[0m                                Traceback (most recent call last)",
            "\u001b[0;32m<ipython-input-40-e61928a0f385>\u001b[0m in \u001b[0;36m<module>\u001b[0;34m\u001b[0m\n\u001b[0;32m----> 1\u001b[0;31m \u001b[0mmyNewList\u001b[0m\u001b[0;34m[\u001b[0m\u001b[0;36m7\u001b[0m\u001b[0;34m]\u001b[0m\u001b[0;34m\u001b[0m\u001b[0;34m\u001b[0m\u001b[0m\n\u001b[0m",
            "\u001b[0;31mIndexError\u001b[0m: list index out of range"
          ]
        }
      ]
    },
    {
      "cell_type": "markdown",
      "source": [
        "Indexing lists is also extremely important for [list slicing](https://railsware.com/blog/python-for-machine-learning-indexing-and-slicing-for-lists-tuples-strings-and-other-sequential-types/) which we will not cover here but is important when dealing with and editing lists.\n",
        "\n",
        "The `pop()` class object for python lists can actually remove values from a list based on their index. This is done by supplying the value's index within the parentheses like so `MY_LIST.pop(INDEX_TO_REMOVE)`. This will also return the value which was removed from the list."
      ],
      "metadata": {
        "id": "biI1tezXet1l"
      }
    },
    {
      "cell_type": "code",
      "source": [
        "# Remove first item in the list, store as a new variable\n",
        "removedVal = myNewList.pop(0)\n",
        "\n",
        "print(\"Value removed from list: \", removedVal)\n",
        "print(\"Updated list: \", myNewList)"
      ],
      "metadata": {
        "colab": {
          "base_uri": "https://localhost:8080/"
        },
        "id": "-MYmBBUpq7I9",
        "outputId": "8ef1fd0e-6e04-4d41-f211-ee0f922ec903"
      },
      "execution_count": null,
      "outputs": [
        {
          "output_type": "stream",
          "name": "stdout",
          "text": [
            "Value removed from list:  10\n",
            "Updated list:  [20, 30, 40, 50, 60, 70]\n"
          ]
        }
      ]
    },
    {
      "cell_type": "markdown",
      "source": [
        "Tuples are similar to lists in how they are indexed and that multiple data types are allowed in the tuple; however, tuples are immutable. Hence, after its initial definition a tuple can not be changed. Tuples are defined with `()`. "
      ],
      "metadata": {
        "id": "i4TsIZ-k3e-w"
      }
    },
    {
      "cell_type": "code",
      "source": [
        "# Define a tuple\n",
        "myTuple = (4, True, 22.3, \"fruit\", 60.0)\n",
        "\n",
        "# Define a tuple from myNewList\n",
        "myNewTuple = tuple(myNewList)\n",
        "\n",
        "print(myTuple)\n",
        "print(myNewTuple)"
      ],
      "metadata": {
        "colab": {
          "base_uri": "https://localhost:8080/"
        },
        "id": "alIg7-fr3fpE",
        "outputId": "4b199fe5-3e69-4ae0-a3ec-415b6ed66981"
      },
      "execution_count": null,
      "outputs": [
        {
          "output_type": "stream",
          "name": "stdout",
          "text": [
            "(4, True, 22.3, 'fruit', 60.0)\n",
            "(20, 30, 40, 50, 60, 70)\n"
          ]
        }
      ]
    },
    {
      "cell_type": "markdown",
      "source": [
        "Since tuples are immutable there's nothing to do with a tuple after it is defined. Tuples can be a little boring although a good use for them is ensuring your data set does not change."
      ],
      "metadata": {
        "id": "XresDVPy43JU"
      }
    },
    {
      "cell_type": "markdown",
      "source": [
        "Python dictionaries are data containers consisting of `key:value` pairs where each `key` is mapped to a specific `value`. The `value` can be a single variable, number, or even a list of values just as a few examples.\n",
        "\n",
        "Dictionaries are defined like so... \n",
        "\n",
        "`{key1:values1, key2:values2, ...}`\n",
        "\n",
        "or\n",
        "\n",
        "`dict(key1 = values1, key2 = values2, ...)`"
      ],
      "metadata": {
        "id": "nExxlsJG5nIa"
      }
    },
    {
      "cell_type": "code",
      "source": [
        "# Define a dicitonary\n",
        "myDict = {\"Name\": \"Johnny\", \"YearInProgram\": \"Third\", \n",
        "          \"Age\": 26, \"HasAdvisor\": True,\n",
        "          \"SpringCourses\": [\"PHYS660\", \"PHYS811\", \"PHYS646\"],\n",
        "          \"SpringGrades\": [88.7, 91.2, 85.6]\n",
        "          }\n",
        "\n",
        "# Print length of the dictionary, this will be total number of key:value pairs\n",
        "print(\"Length of myDict: \", len(myDict))\n",
        "\n",
        "# Print the dicitonary itself\n",
        "print(myDict)"
      ],
      "metadata": {
        "colab": {
          "base_uri": "https://localhost:8080/"
        },
        "id": "ylpLp4_Z-Kgs",
        "outputId": "7a8a1e7c-bf65-4572-ba15-4534f0e24566"
      },
      "execution_count": null,
      "outputs": [
        {
          "output_type": "stream",
          "name": "stdout",
          "text": [
            "Length of myDict:  6\n",
            "{'Name': 'Johnny', 'YearInProgram': 'Third', 'Age': 26, 'HasAdvisor': True, 'SpringCourses': ['PHYS660', 'PHYS811', 'PHYS646'], 'SpringGrades': [88.7, 91.2, 85.6]}\n"
          ]
        }
      ]
    },
    {
      "cell_type": "markdown",
      "source": [
        "Dictionaries are mutable, meaning they can be changed, although they cannot repeat keys. If a `key` is repeated then it will overwrite the last iteration of that `key`."
      ],
      "metadata": {
        "id": "fjkNzDWLAZzl"
      }
    },
    {
      "cell_type": "code",
      "source": [
        "# Define a new dictionary\n",
        "myNewDict = {\"Brand\": \"Dell\",\n",
        "             \"Year\": 2021,\n",
        "             \"HasUbuntuOS\": True,\n",
        "             \"Year\": 2023\n",
        "             }\n",
        "\n",
        "print(myNewDict)"
      ],
      "metadata": {
        "colab": {
          "base_uri": "https://localhost:8080/"
        },
        "id": "Xjto25IiAait",
        "outputId": "b9a79ad4-abae-49b4-b8ac-d7c5fa94e7d1"
      },
      "execution_count": null,
      "outputs": [
        {
          "output_type": "stream",
          "name": "stdout",
          "text": [
            "{'Brand': 'Dell', 'Year': 2023, 'HasUbuntuOS': True}\n"
          ]
        }
      ]
    },
    {
      "cell_type": "markdown",
      "source": [
        "You can get the `value` of a `key` by indexing the dicitonary by that specific `key` or using the `get()` class object."
      ],
      "metadata": {
        "id": "DUnPcFTqBKmF"
      }
    },
    {
      "cell_type": "code",
      "source": [
        "# Get the value of the \"Brand\" key \n",
        "brand = myNewDict[\"Brand\"]\n",
        "\n",
        "# Get the value of the \"Age\" key\n",
        "year = myNewDict.get(\"Year\")\n",
        "\n",
        "print(brand, year)"
      ],
      "metadata": {
        "colab": {
          "base_uri": "https://localhost:8080/"
        },
        "id": "KmeBkEuaB1DJ",
        "outputId": "83fc7671-b5f9-4d74-84be-c7fdb31bbc8c"
      },
      "execution_count": null,
      "outputs": [
        {
          "output_type": "stream",
          "name": "stdout",
          "text": [
            "Dell 2023\n"
          ]
        }
      ]
    },
    {
      "cell_type": "markdown",
      "source": [
        "You can add new `key:value` pairs to the dicitonary after its initial definition."
      ],
      "metadata": {
        "id": "crHha7qcCv0M"
      }
    },
    {
      "cell_type": "code",
      "source": [
        "# Add key \"Laptop\" with boolean value True\n",
        "myNewDict[\"Laptop\"] = True\n",
        "\n",
        "print(myNewDict)"
      ],
      "metadata": {
        "colab": {
          "base_uri": "https://localhost:8080/"
        },
        "id": "NfnqzNQcDOUv",
        "outputId": "456657cd-b29e-42da-e95d-137d80d16456"
      },
      "execution_count": null,
      "outputs": [
        {
          "output_type": "stream",
          "name": "stdout",
          "text": [
            "{'Brand': 'Dell', 'Year': 2023, 'HasUbuntuOS': True, 'Laptop': True}\n"
          ]
        }
      ]
    },
    {
      "cell_type": "markdown",
      "source": [
        "You can also change the `value` of an already defined `key`."
      ],
      "metadata": {
        "id": "_b1G9X_YDrsv"
      }
    },
    {
      "cell_type": "code",
      "source": [
        "# Change value of \"Year\" to 2015\n",
        "myNewDict[\"Year\"] = 2015\n",
        "\n",
        "print(myNewDict)"
      ],
      "metadata": {
        "colab": {
          "base_uri": "https://localhost:8080/"
        },
        "id": "xI6v1oPlD_KW",
        "outputId": "4f3f3d82-fbf7-463c-d4c3-2bcdbb335651"
      },
      "execution_count": null,
      "outputs": [
        {
          "output_type": "stream",
          "name": "stdout",
          "text": [
            "{'Brand': 'Dell', 'Year': 2015, 'HasUbuntuOS': True, 'Laptop': True}\n"
          ]
        }
      ]
    },
    {
      "cell_type": "markdown",
      "source": [
        "The keys and values within a dicitonary can also be obtained using the `keys()` and `values()` class objects respectively."
      ],
      "metadata": {
        "id": "7fpmpUJdENAO"
      }
    },
    {
      "cell_type": "code",
      "source": [
        "# Print all keys in myNewDict\n",
        "print( myNewDict.keys() )\n",
        "\n",
        "# Print all values in myNewDict\n",
        "print( myNewDict.values() )"
      ],
      "metadata": {
        "colab": {
          "base_uri": "https://localhost:8080/"
        },
        "id": "03MW-maFEyOk",
        "outputId": "37a3c78c-05f3-4374-eb02-115c556b6dbe"
      },
      "execution_count": null,
      "outputs": [
        {
          "output_type": "stream",
          "name": "stdout",
          "text": [
            "dict_keys(['Brand', 'Year', 'HasUbuntuOS', 'Laptop'])\n",
            "dict_values(['Dell', 2015, True, True])\n"
          ]
        }
      ]
    },
    {
      "cell_type": "markdown",
      "source": [
        "**NOTE:** The order of the dicitionary is retained so the first index of `myNewDict.keys()` is paired with the first index of `myNewDict.values()`\n",
        "\n",
        "You can also return these keys and values as lists so that individual dictionary parts can be accessed outside of the dicitonary class."
      ],
      "metadata": {
        "id": "B9XZadIrFp2k"
      }
    },
    {
      "cell_type": "code",
      "source": [
        "# Print all keys in myNewDict as a list\n",
        "print( list(myNewDict.keys()) )\n",
        "\n",
        "# Print all values in myNewDict as a list\n",
        "print( list(myNewDict.values()) )"
      ],
      "metadata": {
        "colab": {
          "base_uri": "https://localhost:8080/"
        },
        "id": "YIbdmphaGPGG",
        "outputId": "4bea96ac-3789-42a1-8ea9-783fe3eb3e4f"
      },
      "execution_count": null,
      "outputs": [
        {
          "output_type": "stream",
          "name": "stdout",
          "text": [
            "['Brand', 'Year', 'HasUbuntuOS', 'Laptop']\n",
            "['Dell', 2015, True, True]\n"
          ]
        }
      ]
    },
    {
      "cell_type": "markdown",
      "source": [
        "Information about all three of these data containers is not necessary for PHYS660; however, knowledge about at least one of these container types will be necessary. I would recommend learning more about lists and numpy arrays (decsribed in more detail later) as these are two of the most common data containers used in introductory python courses."
      ],
      "metadata": {
        "id": "B6FWVhJBnPpi"
      }
    },
    {
      "cell_type": "markdown",
      "source": [
        "# **Loops in Python**\n",
        "\n",
        "Python has two different types of loops, `for` loops and `while` loops. These loops are used to repeatedly do calculations.\n",
        "\n",
        "`for` loops are used when you want to preform a specific number of calculations or if you want to parse through a data container."
      ],
      "metadata": {
        "id": "w9m9ijIXn6n1"
      }
    },
    {
      "cell_type": "code",
      "source": [
        "# Define a list of numbers\n",
        "myList = [5, 10, 15, 20, 25, 30]\n",
        "\n",
        "# Loop through each element in the list via the elements index\n",
        "for i in range(len(myList)):\n",
        "\n",
        "  # Square each value in the list then print it\n",
        "  value = myList[i] ** 2\n",
        "  print(value)"
      ],
      "metadata": {
        "id": "gD5XPRe3GkZd",
        "colab": {
          "base_uri": "https://localhost:8080/"
        },
        "outputId": "01e29961-dd45-4b37-b4c0-c10bb2daf3bf"
      },
      "execution_count": 2,
      "outputs": [
        {
          "output_type": "stream",
          "name": "stdout",
          "text": [
            "25\n",
            "100\n",
            "225\n",
            "400\n",
            "625\n",
            "900\n"
          ]
        }
      ]
    },
    {
      "cell_type": "code",
      "source": [
        "# Now parse through the list with a for loop\n",
        "for val in myList:\n",
        "\n",
        "  # Print the parsed value of the list\n",
        "  print(val)"
      ],
      "metadata": {
        "colab": {
          "base_uri": "https://localhost:8080/"
        },
        "id": "KbKxSa4fGgBp",
        "outputId": "6ef5f39a-5918-49da-ee14-581bd853a657"
      },
      "execution_count": 3,
      "outputs": [
        {
          "output_type": "stream",
          "name": "stdout",
          "text": [
            "5\n",
            "10\n",
            "15\n",
            "20\n",
            "25\n",
            "30\n"
          ]
        }
      ]
    },
    {
      "cell_type": "markdown",
      "source": [
        "One can also parse through data container elements and their indexes with a `for` loop simultaneously using the `enumerate()` function."
      ],
      "metadata": {
        "id": "PYoDUiUxJYnF"
      }
    },
    {
      "cell_type": "code",
      "source": [
        "for ival, val in enumerate(myList):\n",
        "  print(\"Index: \", ival, \"Value: \", val)"
      ],
      "metadata": {
        "colab": {
          "base_uri": "https://localhost:8080/"
        },
        "id": "1FPiPMdiJ52Q",
        "outputId": "1e555b5a-7965-48a5-dbbe-755f0e9edfe9"
      },
      "execution_count": 5,
      "outputs": [
        {
          "output_type": "stream",
          "name": "stdout",
          "text": [
            "Index:  0 Value:  5\n",
            "Index:  1 Value:  10\n",
            "Index:  2 Value:  15\n",
            "Index:  3 Value:  20\n",
            "Index:  4 Value:  25\n",
            "Index:  5 Value:  30\n"
          ]
        }
      ]
    },
    {
      "cell_type": "markdown",
      "source": [
        "`for` loops also have a `continue` statement which is used to continue to the next iteration of the `for` loop."
      ],
      "metadata": {
        "id": "1izhIiRhMBkK"
      }
    },
    {
      "cell_type": "code",
      "source": [
        "myList = [5, 10, 15, \"twenty\", 25, 30]\n",
        "\n",
        "# Loop through the list\n",
        "for i in range(len(myList)):\n",
        "\n",
        "  # If the value is an integer print it, otherwise skip it\n",
        "  if type(myList[i]) == int:\n",
        "    print(myList[i])\n",
        "  else:\n",
        "    continue"
      ],
      "metadata": {
        "colab": {
          "base_uri": "https://localhost:8080/"
        },
        "id": "yVxrTim6NEuR",
        "outputId": "3c4f1521-7cf4-4281-f68e-6fa7f922bf3e"
      },
      "execution_count": 6,
      "outputs": [
        {
          "output_type": "stream",
          "name": "stdout",
          "text": [
            "5\n",
            "10\n",
            "15\n",
            "25\n",
            "30\n"
          ]
        }
      ]
    },
    {
      "cell_type": "markdown",
      "source": [
        "`for` loops also have a `break` statement which is used to fully stop the `for` loop or, stated another way, to \"break\" out of the loop."
      ],
      "metadata": {
        "id": "WDQ6Ix1oUbfX"
      }
    },
    {
      "cell_type": "code",
      "source": [
        "for i in range(len(myList)):\n",
        "\n",
        "  # If the value is an integer print it, otherwise break out of the loop\n",
        "  if type(myList[i]) == int:\n",
        "    print(myList[i])\n",
        "  else:\n",
        "    break"
      ],
      "metadata": {
        "colab": {
          "base_uri": "https://localhost:8080/"
        },
        "id": "ZdsOpUjnVSHj",
        "outputId": "05194468-db92-4aca-a722-7f2893974a39"
      },
      "execution_count": 9,
      "outputs": [
        {
          "output_type": "stream",
          "name": "stdout",
          "text": [
            "5\n",
            "10\n",
            "15\n"
          ]
        }
      ]
    },
    {
      "cell_type": "markdown",
      "source": [
        "`while` loops are used to perform a calculation when a given condition is set."
      ],
      "metadata": {
        "id": "0Th1ul1qK5VK"
      }
    },
    {
      "cell_type": "code",
      "source": [
        "# Define a counting value\n",
        "count = 0\n",
        "\n",
        "# Define a while loop to print the count number until count == 5\n",
        "while count < 5:\n",
        "  # Increment count by 1\n",
        "  count += 1\n",
        "  print(count)"
      ],
      "metadata": {
        "colab": {
          "base_uri": "https://localhost:8080/"
        },
        "id": "GdlSXFLWPw_0",
        "outputId": "22df16e6-7c79-43c6-c2c7-c9c42c6b2c83"
      },
      "execution_count": 8,
      "outputs": [
        {
          "output_type": "stream",
          "name": "stdout",
          "text": [
            "1\n",
            "2\n",
            "3\n",
            "4\n",
            "5\n"
          ]
        }
      ]
    },
    {
      "cell_type": "markdown",
      "source": [
        "**NOTE:** If the value `count` is not incrememnted then the `while` loop will continue forever. `while` loops can also use the `continue` and `break` statements as well.\n",
        "\n",
        "`while` loops are important to know aboutl; however, the risk of running into an infinite loop is very high so proceed with caution! Typically it's possible to do the same calculations within a `for` loop."
      ],
      "metadata": {
        "id": "0OiAYTiCTF8x"
      }
    },
    {
      "cell_type": "markdown",
      "source": [
        "# NOTES\n",
        "\n",
        "Then introduce print functions and string manipulation when discussin strings, then conditional statements with the booleans and such.\n",
        "\n",
        "Discuss lists and list manipulation, along with for loops.\n",
        "\n",
        "Discuss both user defined and built in functions.\n",
        "\n",
        "Introduce different packages (numpy, scipy, etc.)\n",
        "\n",
        "Introduce matplotlib package and plotting\n",
        "\n",
        "Finish with having the students estimate pi via Monte Carlo methods (i.e. random point in a box, seeing which ones land in a circle and which ones land outside -> see inclasslab_Oct1.ipynb on Google colab, in my personal drive at the moment)\n",
        "\n",
        "Stress that the major three things in coding are 1. That is works/you get the right answer. 2. Readability (white space and commenting). 3. Efficiency\n",
        "\n",
        "Still need to look over python notebooks for the PHYS660 notebooks and see if there is anything I should definitely go over..."
      ],
      "metadata": {
        "id": "IWeu76OCEIx2"
      }
    }
  ]
}