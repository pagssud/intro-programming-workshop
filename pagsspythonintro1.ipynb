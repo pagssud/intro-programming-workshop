{
  "nbformat": 4,
  "nbformat_minor": 0,
  "metadata": {
    "colab": {
      "provenance": [],
      "toc_visible": true,
      "authorship_tag": "ABX9TyNAblE7F+WYrjoL5GULFX8T",
      "include_colab_link": true
    },
    "kernelspec": {
      "name": "python3",
      "display_name": "Python 3"
    },
    "language_info": {
      "name": "python"
    }
  },
  "cells": [
    {
      "cell_type": "markdown",
      "metadata": {
        "id": "view-in-github",
        "colab_type": "text"
      },
      "source": [
        "<a href=\"https://colab.research.google.com/github/pagssud/intro-programming-workshop/blob/main/pagsspythonintro1.ipynb\" target=\"_parent\"><img src=\"https://colab.research.google.com/assets/colab-badge.svg\" alt=\"Open In Colab\"/></a>"
      ]
    },
    {
      "cell_type": "markdown",
      "source": [
        "This lession has been adapted from work that is Copyright © Software Carpentry and made available under [Creative Commons Attribution](https://https://creativecommons.org/licenses/by/4.0/) license "
      ],
      "metadata": {
        "id": "fkdD9Hiogh68"
      }
    },
    {
      "cell_type": "markdown",
      "source": [
        "# Lession 1 - Python Fundamentals"
      ],
      "metadata": {
        "id": "jAalfE2GeMa8"
      }
    },
    {
      "cell_type": "markdown",
      "source": [
        "Questions\n",
        "\n",
        "*   What basic data types can I work with in Python?\n",
        "*   How can I create a new variable in Python?\n",
        "*   How do I use a function?\n",
        "*   Can I change the value associated with a variable after I create it?\n",
        "\n",
        "Objectives\n",
        "*   Assign values to variables.\n",
        "\n"
      ],
      "metadata": {
        "id": "WtWOe-t1eg-i"
      }
    },
    {
      "cell_type": "markdown",
      "source": [
        "## Variables"
      ],
      "metadata": {
        "id": "1LOBqvkLfKKb"
      }
    },
    {
      "cell_type": "markdown",
      "source": [
        "Any Python interpreter can be used as a calculator:"
      ],
      "metadata": {
        "id": "i695Kjg2fVOk"
      }
    },
    {
      "cell_type": "code",
      "execution_count": null,
      "metadata": {
        "colab": {
          "base_uri": "https://localhost:8080/"
        },
        "id": "Jx5T854Nd0EQ",
        "outputId": "22804f5b-0eda-4330-aae3-f8a988c0ece0"
      },
      "outputs": [
        {
          "output_type": "execute_result",
          "data": {
            "text/plain": [
              "15.0"
            ]
          },
          "metadata": {},
          "execution_count": 21
        }
      ],
      "source": [
        "3 * 4 + 6 / 2 #arithmetic"
      ]
    },
    {
      "cell_type": "code",
      "source": [
        "3**2 #exponentiation"
      ],
      "metadata": {
        "colab": {
          "base_uri": "https://localhost:8080/"
        },
        "id": "PPhKJIODuf3G",
        "outputId": "654a743f-6a9f-41e2-d65c-1c55891d11e8"
      },
      "execution_count": null,
      "outputs": [
        {
          "output_type": "execute_result",
          "data": {
            "text/plain": [
              "9"
            ]
          },
          "metadata": {},
          "execution_count": 14
        }
      ]
    },
    {
      "cell_type": "code",
      "source": [
        "4%3 #modulus"
      ],
      "metadata": {
        "colab": {
          "base_uri": "https://localhost:8080/"
        },
        "id": "tkjvcNQuuoLK",
        "outputId": "2f68eedb-e481-4ffc-a3c4-077cf55ee733"
      },
      "execution_count": null,
      "outputs": [
        {
          "output_type": "execute_result",
          "data": {
            "text/plain": [
              "1"
            ]
          },
          "metadata": {},
          "execution_count": 18
        }
      ]
    },
    {
      "cell_type": "code",
      "source": [
        "10 // 3 #floor division"
      ],
      "metadata": {
        "colab": {
          "base_uri": "https://localhost:8080/"
        },
        "id": "59SRWqdOvUU6",
        "outputId": "19e853b3-85dc-4e5c-baae-f2f0fa208b50"
      },
      "execution_count": null,
      "outputs": [
        {
          "output_type": "execute_result",
          "data": {
            "text/plain": [
              "3"
            ]
          },
          "metadata": {},
          "execution_count": 29
        }
      ]
    },
    {
      "cell_type": "markdown",
      "source": [
        "This is great but not very interesting. To do anything useful with data, we need to assign its value to a variable. In Python, we can assign a value to a variable, using the equals sign =. For example, we can track the weight of a patient who weighs 60 kilograms by assigning the value `60` to a variable `weight_kg`"
      ],
      "metadata": {
        "id": "XqqpAZQafjA7"
      }
    },
    {
      "cell_type": "code",
      "source": [
        "weight_kg = 60"
      ],
      "metadata": {
        "id": "OIL6bFHafbOv"
      },
      "execution_count": null,
      "outputs": []
    },
    {
      "cell_type": "markdown",
      "source": [
        "From now on, whenever we use `weight_kg`, Python will substitute the value we assigned to it. In layman’s terms, **a variable is a name for a value.**\n",
        "\n",
        "In Python, variable names:\n",
        "\n",
        "* can include letters, digits, and underscores\n",
        "* cannot start with a digit\n",
        "* are case sensitive\n",
        "\n",
        "This means that, for example:\n",
        "\n",
        "`weight0` is a valid variable name, whereas `0weight` is not\n",
        "\n",
        "`weight` and `Weight` are different variables"
      ],
      "metadata": {
        "id": "wY7d4m83fuNV"
      }
    },
    {
      "cell_type": "markdown",
      "source": [
        "## Types of data\n",
        "\n",
        "Python knows various types of data. Three common ones are:\n",
        "\n",
        "* integer numbers\n",
        "* floating point numbers, and\n",
        "* strings\n",
        "\n",
        "In the example above, variable `weight_kg` has an integer value of `60`. If we want to more precisely track the weight of our patient, we can use a floating point value by executing:"
      ],
      "metadata": {
        "id": "uxE9qDHkhPDc"
      }
    },
    {
      "cell_type": "code",
      "source": [
        "weight_kg = 60.3"
      ],
      "metadata": {
        "id": "Ic-wSPzSgJsh"
      },
      "execution_count": null,
      "outputs": []
    },
    {
      "cell_type": "markdown",
      "source": [
        "To create a string, we add single or double quotes around some text. To identify and track a patient throughout our study, we can assign each person a unique identifier by storing it in a string:"
      ],
      "metadata": {
        "id": "h6kbRfmIhhzI"
      }
    },
    {
      "cell_type": "code",
      "source": [
        "patient_id = '001'"
      ],
      "metadata": {
        "id": "s_b8KgmihdTQ"
      },
      "execution_count": null,
      "outputs": []
    },
    {
      "cell_type": "markdown",
      "source": [
        "## Using Variables in Python \n",
        "\n",
        "Once we have data stored with variable names, we can make use of it in calculations. We may want to store our patient’s weight in pounds as well as kilograms:"
      ],
      "metadata": {
        "id": "uZts9LB1hpLA"
      }
    },
    {
      "cell_type": "code",
      "source": [
        "weight_lb = 2.2 * weight_kg"
      ],
      "metadata": {
        "id": "kA4lP6rFhmcT"
      },
      "execution_count": null,
      "outputs": []
    },
    {
      "cell_type": "markdown",
      "source": [
        "We might decide to add a prefix to our patient identifier:"
      ],
      "metadata": {
        "id": "k9A9l52BhzxZ"
      }
    },
    {
      "cell_type": "code",
      "source": [
        "patient_id = 'inflam_' + patient_id"
      ],
      "metadata": {
        "id": "oLbaqkNIhwNh"
      },
      "execution_count": null,
      "outputs": []
    },
    {
      "cell_type": "markdown",
      "source": [
        "## Built-in Python Functions\n",
        "\n",
        "To carry out common tasks with data and variables in Python, the language provides us with several built-in [functions](https://https://carpentries-incubator.github.io/python-novice-programming-gapminder/reference.html#function). To display information to the screen, we use the `print` function:"
      ],
      "metadata": {
        "id": "-cnWQ6Zzh6aH"
      }
    },
    {
      "cell_type": "code",
      "source": [
        "print(weight_lb)\n",
        "print(patient_id)"
      ],
      "metadata": {
        "colab": {
          "base_uri": "https://localhost:8080/"
        },
        "id": "lBCZS-8zh2D3",
        "outputId": "0f3770ac-41c4-466c-eb8e-cf93e045d8d4"
      },
      "execution_count": null,
      "outputs": [
        {
          "output_type": "stream",
          "name": "stdout",
          "text": [
            "132.66\n",
            "inflam_001\n"
          ]
        }
      ]
    },
    {
      "cell_type": "markdown",
      "source": [
        "When we want to make use of a function, referred to as calling the function, we follow its name by parentheses. The parentheses are important: if you leave them off, the function doesn’t actually run! Sometimes you will include values or variables inside the parentheses for the function to use. In the case of `print`, we use the parentheses to tell the function what value we want to display. We will learn more about how functions work and how to create our own in later episodes.\n",
        "\n",
        "We can display multiple things at once using only one `print` call:"
      ],
      "metadata": {
        "id": "q2QFWXekiP1T"
      }
    },
    {
      "cell_type": "code",
      "source": [
        "print(patient_id, 'weight in kilograms:', weight_kg)"
      ],
      "metadata": {
        "colab": {
          "base_uri": "https://localhost:8080/"
        },
        "id": "Sm9qM8nuiPGy",
        "outputId": "3deda226-796f-4c9d-bb98-17a0f3ebdc45"
      },
      "execution_count": null,
      "outputs": [
        {
          "output_type": "stream",
          "name": "stdout",
          "text": [
            "inflam_001 weight in kilograms: 60.3\n"
          ]
        }
      ]
    },
    {
      "cell_type": "markdown",
      "source": [
        "We can also call a function inside of another [function call](https://https://carpentries-incubator.github.io/python-novice-programming-gapminder/reference.html#function-call). For example, Python has a built-in function called `type` that tells you a value’s data type:"
      ],
      "metadata": {
        "id": "6ohaUEi-ifgA"
      }
    },
    {
      "cell_type": "code",
      "source": [
        "print(type(60.3))\n",
        "print(type(patient_id))"
      ],
      "metadata": {
        "colab": {
          "base_uri": "https://localhost:8080/"
        },
        "id": "jZWTbkxWiWA5",
        "outputId": "b4dbb7d1-5fcd-4f38-d799-2386e2c6c612"
      },
      "execution_count": null,
      "outputs": [
        {
          "output_type": "stream",
          "name": "stdout",
          "text": [
            "<class 'float'>\n",
            "<class 'str'>\n"
          ]
        }
      ]
    },
    {
      "cell_type": "markdown",
      "source": [
        "Moreover, we can do arithmetic with variables right inside the `print` function:"
      ],
      "metadata": {
        "id": "SDCJdsxwitsG"
      }
    },
    {
      "cell_type": "code",
      "source": [
        "print('weight in pounds:', 2.2 * weight_kg)"
      ],
      "metadata": {
        "colab": {
          "base_uri": "https://localhost:8080/"
        },
        "id": "G7MSYyTCioT0",
        "outputId": "c6f281b3-a941-47e2-e3b9-0154661e6c1e"
      },
      "execution_count": null,
      "outputs": [
        {
          "output_type": "stream",
          "name": "stdout",
          "text": [
            "weight in pounds: 132.66\n"
          ]
        }
      ]
    },
    {
      "cell_type": "markdown",
      "source": [
        "The above command, however, did not change the value of `weight_kg`:"
      ],
      "metadata": {
        "id": "NHHp3kp5i8cX"
      }
    },
    {
      "cell_type": "code",
      "source": [
        "print(weight_kg)"
      ],
      "metadata": {
        "colab": {
          "base_uri": "https://localhost:8080/"
        },
        "id": "aTyJFp7Li4oe",
        "outputId": "c8564270-5136-43ff-bd83-24275a751a90"
      },
      "execution_count": null,
      "outputs": [
        {
          "output_type": "stream",
          "name": "stdout",
          "text": [
            "60.3\n"
          ]
        }
      ]
    },
    {
      "cell_type": "markdown",
      "source": [
        "To change the value of the `weight_kg` variable, we have to **assign** `weight_kg` a new value using the equals `=` sign:"
      ],
      "metadata": {
        "id": "Q1hW9IO5jIEo"
      }
    },
    {
      "cell_type": "code",
      "source": [
        "weight_kg = 65.0\n",
        "print('weight in kilograms is now:', weight_kg)"
      ],
      "metadata": {
        "colab": {
          "base_uri": "https://localhost:8080/"
        },
        "id": "vfrYjEL_jBpo",
        "outputId": "c984a6ff-e618-4a46-dd1d-cfa565e0df1c"
      },
      "execution_count": null,
      "outputs": [
        {
          "output_type": "stream",
          "name": "stdout",
          "text": [
            "weight in kilograms is now: 65.0\n"
          ]
        }
      ]
    },
    {
      "cell_type": "markdown",
      "source": [
        "## Variables as Sticky Notes\n",
        "\n",
        "A variable in Python is analogous to a sticky note with a name written on it: assigning a value to a variable is like putting that sticky note on a particular value.\n",
        "\n",
        "![python-sticky-note-variables-01.svg](data:image/svg+xml;base64,PD94bWwgdmVyc2lvbj0iMS4wIiBlbmNvZGluZz0iVVRGLTgiPz4KPHN2ZyB4bWxucz0iaHR0cDovL3d3dy53My5vcmcvMjAwMC9zdmciCiAgICAgdmlld0JveD0iMCAwIDEyMCA0OCIKICAgICBoZWlnaHQ9IjEwMCI+CiAgICAgPCEtLSBVc2UgdGhlICdoZWlnaHQnIGF0dHJpYnV0ZSBhYm92ZSB0byBzY2FsZSB0aGUgaW1hZ2UgdXAgb3IgZG93bi4gLS0+CgogICAgIDwhLS0gUmVjdGFuZ2xlIGFyb3VuZCB0aGUgIjY1LjAiIHZhbHVlIC0tPgogICAgIDxyZWN0IHg9IjUiIHk9IjE0IiB3aWR0aD0iNzUiIGhlaWdodD0iMzAiCiAgICAgICAgICAgZmlsbD0iI2ZmZiIgc3Ryb2tlPSIjMDAwIiAvPgoKICAgICA8IS0tIFJlY3RhbmdsZSBhcm91bmQgdGhlICJ3ZWlnaHRfa2ciIGxhYmVsIC0tPgogICAgIDxyZWN0IHg9IjQ4IiB5PSI0IiB3aWR0aD0iNjUiIGhlaWdodD0iMTciCiAgICAgICAgICAgZmlsbD0iI2ZmZTY4MCIgc3Ryb2tlPSIjZmZjMjAwIgogICAgICAgICAgIHJ4PSIxMCIgcnk9IjEwIiAvPgoKICAgICA8IS0tIFRleHQ6ICI2NS4wIiAtLT4KICAgICA8dGV4dCB4PSI0MiIgeT0iMzYiCiAgICAgICAgICAgZm9udC1mYW1pbHk9InNhbnMtc2VyaWYiCiAgICAgICAgICAgZm9udC1zaXplPSIxOXB4IgogICAgICAgICAgIGZvbnQtd2VpZ2h0PSJib2xkIgogICAgICAgICAgIHRleHQtYW5jaG9yPSJtaWRkbGUiPjY1LjA8L3RleHQ+CgogICAgIDwhLS0gVGV4dDogIndlaWdodF9rZyIgLS0+CiAgICAgPHRleHQgeD0iODAiIHk9IjE2IgogICAgICAgICAgIGZvbnQtZmFtaWx5PSInVWJ1bnR1IE1vbm8nIgogICAgICAgICAgIGZvbnQtc2l6ZT0iMTJweCIKICAgICAgICAgICBmb250LXN0eWxlPSJpdGFsaWMiCiAgICAgICAgICAgdGV4dC1hbmNob3I9Im1pZGRsZSI+d2VpZ2h0X2tnPC90ZXh0Pgo8L3N2Zz4K)\n",
        "\n",
        "Using this analogy, we can investigate how assigning a value to one variable does not change values of other, seemingly related, variables. For example, let’s store the subject’s weight in pounds in its own variable:"
      ],
      "metadata": {
        "id": "aTDjULY9jsch"
      }
    },
    {
      "cell_type": "code",
      "source": [
        "# There are 2.2 pounds per kilogram\n",
        "weight_lb = 2.2 * weight_kg\n",
        "print('weight in kilograms:', weight_kg, 'and in pounds:', weight_lb)"
      ],
      "metadata": {
        "colab": {
          "base_uri": "https://localhost:8080/"
        },
        "id": "oLqFgmyXjUUp",
        "outputId": "b7ffc516-9995-4f16-a24c-e2628feb6bf7"
      },
      "execution_count": null,
      "outputs": [
        {
          "output_type": "stream",
          "name": "stdout",
          "text": [
            "weight in kilograms: 65.0 and in pounds: 143.0\n"
          ]
        }
      ]
    },
    {
      "cell_type": "markdown",
      "source": [
        "![python-sticky-note-variables-02.svg](data:image/svg+xml;base64,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)\n",
        "\n",
        "Similar to above, the expression 2.2 * `weight_kg` is evaluated to `143.0`, and then this value is assigned to the variable `weight_lb` (i.e. the sticky note `weight_lb` is placed on `143.0`). At this point, each variable is “stuck” to completely distinct and unrelated values.\n",
        "\n",
        "Let’s now change `weight_kg`:"
      ],
      "metadata": {
        "id": "lrwfKsBtj9jA"
      }
    },
    {
      "cell_type": "code",
      "source": [
        "weight_kg = 100.0\n",
        "print('weight in kilograms is now:', weight_kg, 'and weight in pounds is still:', weight_lb)"
      ],
      "metadata": {
        "colab": {
          "base_uri": "https://localhost:8080/"
        },
        "id": "KVcYis0vj6sx",
        "outputId": "948e2193-cbb4-4505-edd8-dd0d4bc669e2"
      },
      "execution_count": null,
      "outputs": [
        {
          "output_type": "stream",
          "name": "stdout",
          "text": [
            "weight in kilograms is now: 100.0 and weight in pounds is still: 143.0\n"
          ]
        }
      ]
    },
    {
      "cell_type": "markdown",
      "source": [
        "![python-sticky-note-variables-03.svg](data:image/svg+xml;base64,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)\n",
        "\n",
        "Since `weight_lb` doesn’t “remember” where its value comes from, it is not updated when we change `weight_kg`."
      ],
      "metadata": {
        "id": "L08t59FokP-3"
      }
    },
    {
      "cell_type": "markdown",
      "source": [
        "## Check your understanding"
      ],
      "metadata": {
        "id": "2GHKdEsgkVc5"
      }
    },
    {
      "cell_type": "markdown",
      "source": [
        "What values do the variables `mass` and `age` have after each of the following statements? Test your answer by executing the lines."
      ],
      "metadata": {
        "id": "Gytcu-xrkZTw"
      }
    },
    {
      "cell_type": "code",
      "source": [
        "mass = 47.5"
      ],
      "metadata": {
        "id": "I5tr3peMkL6a"
      },
      "execution_count": null,
      "outputs": []
    },
    {
      "cell_type": "code",
      "source": [
        "age = 122"
      ],
      "metadata": {
        "id": "TkaL9sAJlWAi"
      },
      "execution_count": null,
      "outputs": []
    },
    {
      "cell_type": "code",
      "source": [
        "mass = mass * 2.0"
      ],
      "metadata": {
        "id": "Rgq_ozw0lXky"
      },
      "execution_count": null,
      "outputs": []
    },
    {
      "cell_type": "code",
      "source": [
        "age = age - 20"
      ],
      "metadata": {
        "id": "pREjeLkFlZAD"
      },
      "execution_count": null,
      "outputs": []
    },
    {
      "cell_type": "code",
      "source": [
        "#@title Solution { display-mode: \"form\" }\n",
        "#`mass` holds a value of 47.5, `age` does not exist \\\n",
        "#`mass` still holds a value of 47.5, `age` holds a value of 122 \\\n",
        "#`mass` now has a value of 95.0, `age`'s value is still 122 \\\n",
        "#`mass` still has a value of 95.0, `age` now holds 102 \\"
      ],
      "metadata": {
        "id": "RhN2Eh6ysL_4"
      },
      "execution_count": null,
      "outputs": []
    },
    {
      "cell_type": "markdown",
      "source": [
        "## Sorting out references\n",
        "\n",
        "Python allows you to assign multiple values to multiple variables in one line by separating the variables and values with commas. What does the following program print out?\n",
        "\n",
        "```\n",
        "first, second = 'Grace', 'Hopper'\n",
        "third, fourth = second, first\n",
        "print(third, fourth)\n",
        "```\n",
        "\n"
      ],
      "metadata": {
        "id": "okEZpm-Jljpx"
      }
    },
    {
      "cell_type": "code",
      "source": [
        "#@title Solution { display-mode: \"form\" }\n",
        "first, second = 'Grace', 'Hopper'\n",
        "third, fourth = second, first\n",
        "print(third, fourth)"
      ],
      "metadata": {
        "id": "h2nqjvYUloZ-"
      },
      "execution_count": null,
      "outputs": []
    },
    {
      "cell_type": "markdown",
      "source": [
        "## Seeing Data Types\n",
        "\n",
        "What are the data types of the following variables?\n",
        "\n",
        "```\n",
        "planet = 'Earth'\n",
        "apples = 5\n",
        "distance = 10.5\n",
        "```\n",
        "\n"
      ],
      "metadata": {
        "id": "EsQON9QDmZnJ"
      }
    },
    {
      "cell_type": "code",
      "source": [
        "#@title Solution { display-mode: \"form\" }\n",
        "planet = 'Earth'\n",
        "apples = 5\n",
        "distance = 10.5\n",
        "\n",
        "print(type(planet))\n",
        "print(type(apples))\n",
        "print(type(distance))"
      ],
      "metadata": {
        "id": "gufxWH--m_Yb"
      },
      "execution_count": null,
      "outputs": []
    },
    {
      "cell_type": "markdown",
      "source": [
        "## Key Points\n",
        "\n",
        "* Basic data types in Python include integers, strings, and floating-point numbers.\n",
        "\n",
        "* Use `variable = value` to assign a value to a variable in order to record it in memory.\n",
        "\n",
        "* Variables are created on demand whenever a value is assigned to them.\n",
        "\n",
        "* Use `print(something)` to display the value of `something`.\n",
        "\n",
        "* Built-in functions are always available to use."
      ],
      "metadata": {
        "id": "XG5xP4NmnYyz"
      }
    },
    {
      "cell_type": "markdown",
      "source": [
        "## Challenge Question"
      ],
      "metadata": {
        "id": "qKMmXyDJttqT"
      }
    },
    {
      "cell_type": "markdown",
      "source": [
        "Below is an unfinished script that defines 3 variables `a`, `b`, and `c` as coefficients of the equation:\n",
        "\n",
        "$4x^2 + 6x -4 = 0$\n",
        "\n",
        "Define two variables `x1` and `x2` that store the roots of this equation according to the [quadratic formula](https://https://en.wikipedia.org/wiki/Quadratic_formula) and write print statements stating the value and data type of both `x1` and `x2`"
      ],
      "metadata": {
        "id": "gAgpORaVyb9x"
      }
    },
    {
      "cell_type": "code",
      "source": [
        "a = 4\n",
        "b = 6\n",
        "c = -4\n",
        "\n",
        "#Uncomment the lines below and complete them\n",
        "\n",
        "#x1 = ...\n",
        "#x2 = ...\n",
        "\n",
        "#print('The value of x1 is ...')\n",
        "#print('The value of x2 is ...')"
      ],
      "metadata": {
        "id": "0nrgLZHEi8Aj"
      },
      "execution_count": null,
      "outputs": []
    },
    {
      "cell_type": "code",
      "source": [
        "#@title Solution { display-mode: \"form\" }\n",
        "a = 4\n",
        "b = 6\n",
        "c = -4\n",
        "\n",
        "x1 = (-b + (b**2 - 4 * a * c)**(1 / 2)) / 2\n",
        "x2 = (-b - (b**2 - 4 * a * c)**(1 / 2)) / 2\n",
        "\n",
        "print('The value of x is: ', x1, ' and its data type is: ', type(x1))\n",
        "print('The value of x is: ', x2, ' and its data type is: ', type(x2))"
      ],
      "metadata": {
        "id": "-TbKc2B5yqUG"
      },
      "execution_count": null,
      "outputs": []
    }
  ]
}