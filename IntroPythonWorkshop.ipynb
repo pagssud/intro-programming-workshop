{
  "nbformat": 4,
  "nbformat_minor": 0,
  "metadata": {
    "colab": {
      "provenance": [],
      "authorship_tag": "ABX9TyNlsRK4K7rRqTgV8k1+uCkQ",
      "include_colab_link": true
    },
    "kernelspec": {
      "name": "python3",
      "display_name": "Python 3"
    },
    "language_info": {
      "name": "python"
    }
  },
  "cells": [
    {
      "cell_type": "markdown",
      "metadata": {
        "id": "view-in-github",
        "colab_type": "text"
      },
      "source": [
        "<a href=\"https://colab.research.google.com/github/pagssud/intro-programming-workshop/blob/main/IntroPythonWorkshop.ipynb\" target=\"_parent\"><img src=\"https://colab.research.google.com/assets/colab-badge.svg\" alt=\"Open In Colab\"/></a>"
      ]
    },
    {
      "cell_type": "markdown",
      "source": [
        "# Brief Introduction\n",
        "\n",
        "Python is a programming language used to tell a compute how to do things. It takes input from the user and converts it to \"computer language\" such that these user-provided commands can be executed. Some advantages to python over other languages are it's both easy to use and well documented.\n",
        "\n",
        "One of the hardest parts about python (or programming in any language really!) is setting up your environment such that the software works and can \"talk\" to your computer and other libraries necessary to run your code. Luckily Google offers a free python notebook interface known as [Google Colab](https://colab.research.google.com/) which requires no setup other than a Google account. These notebooks are saved directly in your Google Drive and we will use this method of programming for the introduciton workshop. This eliminates the hassle of setting up python environments in different operating systems. \n",
        "\n"
      ],
      "metadata": {
        "id": "LF9va966J9Z9"
      }
    },
    {
      "cell_type": "markdown",
      "source": [
        "# Basics\n",
        "\n",
        "Python has many uses, one of which is just a simple calculator."
      ],
      "metadata": {
        "id": "BRof-k8KMfwj"
      }
    },
    {
      "cell_type": "code",
      "execution_count": 1,
      "metadata": {
        "id": "qMSXXQPb-KcO",
        "colab": {
          "base_uri": "https://localhost:8080/"
        },
        "outputId": "780cab01-572b-49db-e44f-55a54a49a3a2"
      },
      "outputs": [
        {
          "output_type": "execute_result",
          "data": {
            "text/plain": [
              "4"
            ]
          },
          "metadata": {},
          "execution_count": 1
        }
      ],
      "source": [
        "2 + 2"
      ]
    },
    {
      "cell_type": "markdown",
      "source": [
        "Another use is printing output to the notebook/terminal through use of the `print()` function. This function is a great way to test and debug your programs."
      ],
      "metadata": {
        "id": "T_ZSFmhnPkJA"
      }
    },
    {
      "cell_type": "code",
      "source": [
        "print(\"Hello World!\")"
      ],
      "metadata": {
        "colab": {
          "base_uri": "https://localhost:8080/"
        },
        "id": "vXPHwt5CQxrG",
        "outputId": "b8fb1828-51ab-4849-f7b2-02c7489625b1"
      },
      "execution_count": 2,
      "outputs": [
        {
          "output_type": "stream",
          "name": "stdout",
          "text": [
            "Hello World!\n"
          ]
        }
      ]
    },
    {
      "cell_type": "markdown",
      "source": [
        "In python notebooks, multiple lines of code can be written in the code boxes and then executed at once. This allows you to perform multiple calculations in one go. Although, only the last command will be printed to the notebook."
      ],
      "metadata": {
        "id": "_nXU_lbjM3BY"
      }
    },
    {
      "cell_type": "code",
      "source": [
        "4 - 3\n",
        "5 * 10"
      ],
      "metadata": {
        "colab": {
          "base_uri": "https://localhost:8080/"
        },
        "id": "KcL1pe7SMtib",
        "outputId": "ef402ded-5b6a-4f3e-9889-f3dc8e8b9ecf"
      },
      "execution_count": 3,
      "outputs": [
        {
          "output_type": "execute_result",
          "data": {
            "text/plain": [
              "50"
            ]
          },
          "metadata": {},
          "execution_count": 3
        }
      ]
    },
    {
      "cell_type": "markdown",
      "source": [
        "If you want to suppress all outputs then use a semicolon, `;`, at the end of the command."
      ],
      "metadata": {
        "id": "otxn3W8wNLzR"
      }
    },
    {
      "cell_type": "code",
      "source": [
        "4 - 3\n",
        "5 * 10;"
      ],
      "metadata": {
        "id": "P-7wirEsNEkD"
      },
      "execution_count": 4,
      "outputs": []
    },
    {
      "cell_type": "markdown",
      "source": [
        "Python also follows the order of operations (PEDMAS)"
      ],
      "metadata": {
        "id": "6QKppnqashoK"
      }
    },
    {
      "cell_type": "code",
      "source": [
        "(3 + 2) * 4"
      ],
      "metadata": {
        "colab": {
          "base_uri": "https://localhost:8080/"
        },
        "id": "-iDTWrfbspu3",
        "outputId": "1b1b4038-59a8-461b-b1df-9724dc95ae09"
      },
      "execution_count": 5,
      "outputs": [
        {
          "output_type": "execute_result",
          "data": {
            "text/plain": [
              "20"
            ]
          },
          "metadata": {},
          "execution_count": 5
        }
      ]
    },
    {
      "cell_type": "markdown",
      "source": [
        "In python, raising a value to an exponent is done using `**`."
      ],
      "metadata": {
        "id": "qte2nO9HNdJt"
      }
    },
    {
      "cell_type": "code",
      "source": [
        "2 ** 3"
      ],
      "metadata": {
        "colab": {
          "base_uri": "https://localhost:8080/"
        },
        "id": "aOp9vd6FNaYZ",
        "outputId": "075a3b55-d8e9-4702-de09-cfa162a1c7ae"
      },
      "execution_count": 6,
      "outputs": [
        {
          "output_type": "execute_result",
          "data": {
            "text/plain": [
              "8"
            ]
          },
          "metadata": {},
          "execution_count": 6
        }
      ]
    },
    {
      "cell_type": "markdown",
      "source": [
        "We can also define \"variables\" in python which are saved in the computers memory and can be accessed for later use in your code. Below `x` is considered a variable."
      ],
      "metadata": {
        "id": "UnQq36nVN_m6"
      }
    },
    {
      "cell_type": "code",
      "source": [
        "x = 3\n",
        "2 ** x"
      ],
      "metadata": {
        "colab": {
          "base_uri": "https://localhost:8080/"
        },
        "id": "831vXUcVN0DF",
        "outputId": "7d19dfa6-b55e-44a0-f338-2ff48a789911"
      },
      "execution_count": 7,
      "outputs": [
        {
          "output_type": "execute_result",
          "data": {
            "text/plain": [
              "8"
            ]
          },
          "metadata": {},
          "execution_count": 7
        }
      ]
    },
    {
      "cell_type": "markdown",
      "source": [
        "Although you must be careful with variable definitions and the \"scope\" of your variables. Scope means the area of the code where your variables are accessible, but this is an advanced topic and will not be discussed until later.\n"
      ],
      "metadata": {
        "id": "SYrX5UYvOUWR"
      }
    },
    {
      "cell_type": "code",
      "source": [
        "a = 4\n",
        "b = a\n",
        "print(\"b =\", b, \"   a =\", a)\n",
        "\n",
        "a = 6\n",
        "print(\"b =\", b, \"   a =\", a)"
      ],
      "metadata": {
        "colab": {
          "base_uri": "https://localhost:8080/"
        },
        "id": "rE_tzUvtORkl",
        "outputId": "e0a4e968-1427-4323-dd4a-0303dd9a24fa"
      },
      "execution_count": 8,
      "outputs": [
        {
          "output_type": "stream",
          "name": "stdout",
          "text": [
            "b = 4    a = 4\n",
            "b = 4    a = 6\n"
          ]
        }
      ]
    },
    {
      "cell_type": "markdown",
      "source": [
        "Here, even though `b` was defined as `a`, changing the value of `a` did not change `b`. This is because in the computer memory `b` was stored as the VALUE of `a` but NOT as the variable `a` itself.\n",
        "\n",
        "This can be confusing at first but with time it will become easier to understand :)\n",
        "\n",
        "**NOTE:** Defining variables like `b = a` and then changing the value of `a` later in the code is poor programming and should not be done!"
      ],
      "metadata": {
        "id": "POv-NATuSaYR"
      }
    },
    {
      "cell_type": "markdown",
      "source": [
        "Division in python is also possible, with two different kinds. There is regular division (`/`) and division which discards any portion of the answer after the decimal (`//`). This second type is known as floor division. "
      ],
      "metadata": {
        "id": "w7XQb0P1pbvB"
      }
    },
    {
      "cell_type": "code",
      "source": [
        "print(9 / 4)\n",
        "print(9 // 4)"
      ],
      "metadata": {
        "colab": {
          "base_uri": "https://localhost:8080/"
        },
        "id": "pdw0mL8cRe9N",
        "outputId": "06c0dcc4-c92b-4430-ab06-b3e033928522"
      },
      "execution_count": 9,
      "outputs": [
        {
          "output_type": "stream",
          "name": "stdout",
          "text": [
            "2.25\n",
            "2\n"
          ]
        }
      ]
    },
    {
      "cell_type": "markdown",
      "source": [
        "Note that regular and floor division return the same value if there is no remainder, although there are very slight differences in the output which are extremely important for python and programming in general..."
      ],
      "metadata": {
        "id": "oZfsCWkKs1vE"
      }
    },
    {
      "cell_type": "code",
      "source": [
        "print(9 / 3)\n",
        "print(9 // 3)"
      ],
      "metadata": {
        "colab": {
          "base_uri": "https://localhost:8080/"
        },
        "id": "o2LBbUA6sZ2l",
        "outputId": "f1336c46-11c7-40fb-c973-f388866fab5f"
      },
      "execution_count": 10,
      "outputs": [
        {
          "output_type": "stream",
          "name": "stdout",
          "text": [
            "3.0\n",
            "3\n"
          ]
        }
      ]
    },
    {
      "cell_type": "markdown",
      "source": [
        "Why are there differences here? Because these two outputs are two different data types."
      ],
      "metadata": {
        "id": "6439Uy9HtTxE"
      }
    },
    {
      "cell_type": "markdown",
      "source": [
        "# Data Types\n",
        "\n",
        "In programming, there are many different data types including integers, floats, doubles, and booleans just to name a few. Each programming language has their own subtleties about different data types, including data types which may only exist in that language.\n",
        "\n",
        "Here we will discuss the python data types of integers (`int`), single-precision floats (`float32`), double-precision floats (`float64`), strings (`str`), complex numbers (`complex`), and booleans (`bool`)."
      ],
      "metadata": {
        "id": "V2PCYzOGtuYq"
      }
    },
    {
      "cell_type": "markdown",
      "source": [
        "Let's investigate the differences in the output from regular and floor division. We will use python's `type()` function to return the data type of the variables."
      ],
      "metadata": {
        "id": "NJJpwjyd0wde"
      }
    },
    {
      "cell_type": "code",
      "source": [
        "num = 9\n",
        "denom = 3\n",
        "\n",
        "regOutput = num / denom\n",
        "floorOutput = num // denom\n",
        "\n",
        "print(regOutput, \" type: \", type(regOutput) )\n",
        "print(floorOutput, \"   type: \", type(floorOutput) )"
      ],
      "metadata": {
        "colab": {
          "base_uri": "https://localhost:8080/"
        },
        "id": "X5yEDRjks0rN",
        "outputId": "5f8f1aef-f58d-4b15-927b-71a2bd968810"
      },
      "execution_count": 11,
      "outputs": [
        {
          "output_type": "stream",
          "name": "stdout",
          "text": [
            "3.0  type:  <class 'float'>\n",
            "3    type:  <class 'int'>\n"
          ]
        }
      ]
    },
    {
      "cell_type": "markdown",
      "source": [
        "The data type returned for the regular divison is just a `float` so what is the difference between single-precision floats and double-precision floats?\n",
        "\n",
        "Single-precision floats contain 7 decimal digits of precision and take up 32 bits of storage in the computer memory (hence the `32` in `float32`). Double-precision floats contain 15 decimal digits of precision and take up 64 bits of storage.\n",
        "\n",
        "Double-precision floats require more computer memory to be used during execution of your code. Therefore, the user must be careful when working with large sets of double-precision data as this can slow down your code execution. \n",
        "\n",
        "Due to the intrinsic precision of floats you have to be careful of computer round-off errors."
      ],
      "metadata": {
        "id": "EhbvHWHe2UeN"
      }
    },
    {
      "cell_type": "markdown",
      "source": [
        "**NOTE:** It is good practice to add comments to your code so that you know what each part does when you come back in a few years or if your code is being read by someone else. Your future self will thank you!\n",
        "\n",
        "To add comments, just put a hashtag (`#`) at the beginning of the line. Commented lines will not be executed when the code is run."
      ],
      "metadata": {
        "id": "MsVICt4R8n6f"
      }
    },
    {
      "cell_type": "code",
      "source": [
        "# Define a double-precision float\n",
        "value = 2.000000000000007\n",
        "\n",
        "# Now add a very very small number\n",
        "newValue = value + 0.00000000000000005\n",
        "\n",
        "print(value)\n",
        "print(newValue)"
      ],
      "metadata": {
        "colab": {
          "base_uri": "https://localhost:8080/"
        },
        "id": "o51EEeQus8VQ",
        "outputId": "3b94519a-da57-4414-c444-f2fd25817c8d"
      },
      "execution_count": 12,
      "outputs": [
        {
          "output_type": "stream",
          "name": "stdout",
          "text": [
            "2.000000000000007\n",
            "2.000000000000007\n"
          ]
        }
      ]
    },
    {
      "cell_type": "markdown",
      "source": [
        "Adding the very very small number did nothing due to the intrinsic precision of the computer. The topic of round-off error and potential ways to avoid problems from this subtlety will be covered in more detail in PHYS660."
      ],
      "metadata": {
        "id": "qJrjQFNZ9l8I"
      }
    },
    {
      "cell_type": "markdown",
      "source": [
        "Define `int` data types by just defining your variable as a number. Define `float` data types by inserting a `.` after the number. "
      ],
      "metadata": {
        "id": "P4_QIz0j_nv2"
      }
    },
    {
      "cell_type": "code",
      "source": [
        "# Define an int\n",
        "c = 7\n",
        "\n",
        "# Define a float\n",
        "d = 7.\n",
        "\n",
        "# Print the data types to see explicitly\n",
        "print( type(c) )\n",
        "print( type(d) )"
      ],
      "metadata": {
        "colab": {
          "base_uri": "https://localhost:8080/"
        },
        "id": "NNaVawPd9UCA",
        "outputId": "af4d0244-f77e-49a4-89cd-77993c578a40"
      },
      "execution_count": 13,
      "outputs": [
        {
          "output_type": "stream",
          "name": "stdout",
          "text": [
            "<class 'int'>\n",
            "<class 'float'>\n"
          ]
        }
      ]
    },
    {
      "cell_type": "markdown",
      "source": [
        "`str` data types are defined by placing any collection of text, numbers, or words within either single or double quotes (`''` or `\"\"`)."
      ],
      "metadata": {
        "id": "wGNu9YKCAaBk"
      }
    },
    {
      "cell_type": "code",
      "source": [
        "string1 = 'This is a string.'\n",
        "string2 = \"This is also a string!\"\n",
        "\n",
        "# Strings can also contain numbers\n",
        "string3 = \"A string with numbers3333.\"\n",
        "\n",
        "# Strings can just be numbers themselves\n",
        "string4 = \"3\"\n",
        "\n",
        "# Check these are all strings\n",
        "print( type(string1), type(string2), type(string3), type(string4) )"
      ],
      "metadata": {
        "colab": {
          "base_uri": "https://localhost:8080/"
        },
        "id": "v_k4VAmaAYIe",
        "outputId": "8aacb7ee-48d0-4ac9-a1bb-25e0b4abdb4c"
      },
      "execution_count": 14,
      "outputs": [
        {
          "output_type": "stream",
          "name": "stdout",
          "text": [
            "<class 'str'> <class 'str'> <class 'str'> <class 'str'>\n"
          ]
        }
      ]
    },
    {
      "cell_type": "markdown",
      "source": [
        "`str` dat types can also be defined on multiple lines through use of the `\\` character"
      ],
      "metadata": {
        "id": "v5xq2O64Oepw"
      }
    },
    {
      "cell_type": "code",
      "source": [
        "# Define a string on multiple lines\n",
        "multiLineString = 'I can define' \\\n",
        "' a string on' \\\n",
        "' multiple lines!'\n",
        "\n",
        "print(multiLineString)"
      ],
      "metadata": {
        "colab": {
          "base_uri": "https://localhost:8080/"
        },
        "id": "VAjmuZtQOlJ2",
        "outputId": "a3c0aa8c-3158-4898-c24f-d2329974913d"
      },
      "execution_count": 18,
      "outputs": [
        {
          "output_type": "stream",
          "name": "stdout",
          "text": [
            "I can define a string on multiple lines!\n"
          ]
        }
      ]
    },
    {
      "cell_type": "markdown",
      "source": [
        "You can also convert between `int`, `float`, and `str` data types if the value can be represented as another data type. Conversions are made using the `int()`, `float()`, and `str()` python functions respectively."
      ],
      "metadata": {
        "id": "NRd5tM5rBpal"
      }
    },
    {
      "cell_type": "code",
      "source": [
        "# Define an integer, float, and a string\n",
        "intVal = 10\n",
        "floatVal = 33.06\n",
        "strVal = \"6.5\"\n",
        "\n",
        "# Convert integer to string\n",
        "intToStr = str(intVal)\n",
        "\n",
        "# Convert float to integer (will cut off decimal points)\n",
        "floatToInt = int(floatVal)\n",
        "\n",
        "# Convert string to float\n",
        "strToFloat = float(strVal)\n",
        "\n",
        "# Output original and converted values\n",
        "print(\"Original (int):   \", intVal, \"     Converted to string: \", intToStr)\n",
        "print(\"Original (float): \", floatVal, \"  Converted to integer: \", floatToInt)\n",
        "print(\"Original (str):   \", strVal, \"    Converted to float: \", strToFloat)\n",
        "\n"
      ],
      "metadata": {
        "colab": {
          "base_uri": "https://localhost:8080/"
        },
        "id": "Mpbq9s-JBnpM",
        "outputId": "badc5d35-bd7c-4a4c-ea23-eb6f552e68ff"
      },
      "execution_count": 19,
      "outputs": [
        {
          "output_type": "stream",
          "name": "stdout",
          "text": [
            "Original (int):    10      Converted to string:  10\n",
            "Original (float):  33.06   Converted to integer:  33\n",
            "Original (str):    6.5     Converted to float:  6.5\n"
          ]
        }
      ]
    },
    {
      "cell_type": "markdown",
      "source": [
        "If we try to convert a `str` of words to a `float` or `int` then python will error because this is not possible."
      ],
      "metadata": {
        "id": "yqnnY30PDtEf"
      }
    },
    {
      "cell_type": "code",
      "source": [
        "name = \"Brandon\"\n",
        "\n",
        "convertName = float(name)"
      ],
      "metadata": {
        "colab": {
          "base_uri": "https://localhost:8080/",
          "height": 202
        },
        "id": "SKdpGBsLDa-U",
        "outputId": "5633999c-9796-4a90-bc31-cfbb5ff40c1a"
      },
      "execution_count": 20,
      "outputs": [
        {
          "output_type": "error",
          "ename": "ValueError",
          "evalue": "ignored",
          "traceback": [
            "\u001b[0;31m---------------------------------------------------------------------------\u001b[0m",
            "\u001b[0;31mValueError\u001b[0m                                Traceback (most recent call last)",
            "\u001b[0;32m<ipython-input-20-0404973efea0>\u001b[0m in \u001b[0;36m<module>\u001b[0;34m\u001b[0m\n\u001b[1;32m      1\u001b[0m \u001b[0mname\u001b[0m \u001b[0;34m=\u001b[0m \u001b[0;34m\"Brandon\"\u001b[0m\u001b[0;34m\u001b[0m\u001b[0;34m\u001b[0m\u001b[0m\n\u001b[1;32m      2\u001b[0m \u001b[0;34m\u001b[0m\u001b[0m\n\u001b[0;32m----> 3\u001b[0;31m \u001b[0mconvertName\u001b[0m \u001b[0;34m=\u001b[0m \u001b[0mfloat\u001b[0m\u001b[0;34m(\u001b[0m\u001b[0mname\u001b[0m\u001b[0;34m)\u001b[0m\u001b[0;34m\u001b[0m\u001b[0;34m\u001b[0m\u001b[0m\n\u001b[0m",
            "\u001b[0;31mValueError\u001b[0m: could not convert string to float: 'Brandon'"
          ]
        }
      ]
    },
    {
      "cell_type": "markdown",
      "source": [
        "Complex numbers can also be defined in python but are done using `j` instead of the typical `i` used in physics. So for complex numbers in python you have to think like an electrical engineer."
      ],
      "metadata": {
        "id": "v2N_oyhmSOiF"
      }
    },
    {
      "cell_type": "code",
      "source": [
        "# Define a complex number with both real and complex components\n",
        "z = 4 + 2j\n",
        "\n",
        "print(z)\n",
        "print( type(z) )"
      ],
      "metadata": {
        "colab": {
          "base_uri": "https://localhost:8080/"
        },
        "id": "LN9IGojTSce1",
        "outputId": "c52e9440-f32e-470c-93ba-4877eff7fb91"
      },
      "execution_count": 26,
      "outputs": [
        {
          "output_type": "stream",
          "name": "stdout",
          "text": [
            "(4+2j)\n",
            "<class 'complex'>\n"
          ]
        }
      ]
    },
    {
      "cell_type": "markdown",
      "source": [
        "Many people use `j` as a variable in their loops (discussed later) so using `j` in your code as a complex number may hinder readability and cause issues which are hard to debug...\n",
        "\n",
        "Instead you can define complex numbers with python's `complex()` function, which takes the real part of the number as the first argument and the imaginary part as a second argument. \n",
        "\n",
        "**NOTE:** The terminal output of a complex number will always represent the complex component of the value with `j`, no matter how you define the complex number."
      ],
      "metadata": {
        "id": "h3KZd2jxTp43"
      }
    },
    {
      "cell_type": "code",
      "source": [
        "# Define a complex number in python using complex()\n",
        "x = 5\n",
        "y = 3\n",
        "\n",
        "# Function calls like so -> complex(REAL_PART, IMAG_PART)\n",
        "z = complex(x, y)\n",
        "\n",
        "print(z)\n",
        "print( type(z) )"
      ],
      "metadata": {
        "colab": {
          "base_uri": "https://localhost:8080/"
        },
        "id": "nU4koucyTx1-",
        "outputId": "4d8021a2-587a-4102-8104-aeb5331fba15"
      },
      "execution_count": 27,
      "outputs": [
        {
          "output_type": "stream",
          "name": "stdout",
          "text": [
            "(5+3j)\n",
            "<class 'complex'>\n"
          ]
        }
      ]
    },
    {
      "cell_type": "markdown",
      "source": [
        "You can find both the real and complex components of a variable individually using built in python methods."
      ],
      "metadata": {
        "id": "Y1CmjNEaS-tI"
      }
    },
    {
      "cell_type": "code",
      "source": [
        "re = z.real\n",
        "im = z.imag\n",
        "\n",
        "print(\"Re[z]: \", re)\n",
        "print(\"Im[z]: \", im)"
      ],
      "metadata": {
        "colab": {
          "base_uri": "https://localhost:8080/"
        },
        "id": "hDHtvRNZWBCd",
        "outputId": "ae65405d-c77d-4654-b124-28d9b572af5c"
      },
      "execution_count": 28,
      "outputs": [
        {
          "output_type": "stream",
          "name": "stdout",
          "text": [
            "Re[z]:  5.0\n",
            "Im[z]:  3.0\n"
          ]
        }
      ]
    },
    {
      "cell_type": "markdown",
      "source": [
        "The built in methods of `real` and `imag` are \"class variables\" only accessible for the `complex` data type. Each data type in python is saved as a certain python \"class\", hence why the output from `type()` is always of the form `<class 'DATA_TYPE'>`.\n",
        "\n",
        "Class variables are too advanced a topic for this workskhop, and much too advanced for the needs of PHYS660. However, they are necessary to learn if you wish to become a python expert."
      ],
      "metadata": {
        "id": "WteeYXUyWU1Q"
      }
    },
    {
      "cell_type": "markdown",
      "source": [
        "Using everything we have learned so far, attempt to find the magnitude of the complex number `z = 20.43 + 5.99j`.\n",
        "\n",
        "There are many ways to find the answer. None are right or wrong but some methods are more readable and/or efficient than others."
      ],
      "metadata": {
        "id": "gvKe1Kj8XTcz"
      }
    },
    {
      "cell_type": "code",
      "source": [
        "# Define the complex number\n",
        "x = 20.43\n",
        "y = 5.99\n",
        "\n",
        "z = complex(x, y)\n",
        "\n",
        "# Now find the amplitude here...\n",
        "\n",
        "\n",
        "# Print the result to the notebook\n",
        "print(YOUR_RESULT)"
      ],
      "metadata": {
        "id": "Ql-l9yM-XoAR"
      },
      "execution_count": 29,
      "outputs": []
    },
    {
      "cell_type": "markdown",
      "source": [
        "Boolean variables (`bool`) are either `True` or `False` and are typically used for comparison between values/variables in python. Comparison between values/variables in python is done using the following commands...\n",
        "\n",
        "`>` -> greater than\n",
        "\n",
        "`<` -> less than\n",
        "\n",
        "`>=` -> greater than or equal to\n",
        "\n",
        "`<=` -> less than or equal to\n",
        "\n",
        "`==` -> equal to\n",
        "\n",
        "`&`, `and` -> and, used to see if multiple conditions are true\n",
        "\n",
        "`|`, `or` -> or, used to see if one of multiple conditions is true"
      ],
      "metadata": {
        "id": "mGQuslCCPKP7"
      }
    },
    {
      "cell_type": "code",
      "source": [
        "5 > 3"
      ],
      "metadata": {
        "id": "K_INxW17EC2W",
        "colab": {
          "base_uri": "https://localhost:8080/"
        },
        "outputId": "5800d70f-281f-4f21-e131-58c27e3e0c8a"
      },
      "execution_count": 30,
      "outputs": [
        {
          "output_type": "execute_result",
          "data": {
            "text/plain": [
              "True"
            ]
          },
          "metadata": {},
          "execution_count": 30
        }
      ]
    },
    {
      "cell_type": "code",
      "source": [
        "400 < 6"
      ],
      "metadata": {
        "colab": {
          "base_uri": "https://localhost:8080/"
        },
        "id": "WjfyMqJrQhLb",
        "outputId": "1697d4ed-4824-42a3-b5d6-866bb2f9fb64"
      },
      "execution_count": 32,
      "outputs": [
        {
          "output_type": "execute_result",
          "data": {
            "text/plain": [
              "False"
            ]
          },
          "metadata": {},
          "execution_count": 32
        }
      ]
    },
    {
      "cell_type": "code",
      "source": [
        "x = 10\n",
        "y = 12\n",
        "\n",
        "# See if x and y are equal, will return a boolean answer\n",
        "x == y"
      ],
      "metadata": {
        "colab": {
          "base_uri": "https://localhost:8080/"
        },
        "id": "HvIRus45RjyQ",
        "outputId": "d84d9852-a6a2-402f-8846-489414aabd41"
      },
      "execution_count": 33,
      "outputs": [
        {
          "output_type": "execute_result",
          "data": {
            "text/plain": [
              "False"
            ]
          },
          "metadata": {},
          "execution_count": 33
        }
      ]
    },
    {
      "cell_type": "code",
      "source": [
        "# Try multiple condition statements with \"and\"\n",
        "(x > 5) and (y < 9) "
      ],
      "metadata": {
        "colab": {
          "base_uri": "https://localhost:8080/"
        },
        "id": "EfZxAbQORz8W",
        "outputId": "4462a32e-f827-459e-ef41-e8f90efee136"
      },
      "execution_count": 34,
      "outputs": [
        {
          "output_type": "execute_result",
          "data": {
            "text/plain": [
              "False"
            ]
          },
          "metadata": {},
          "execution_count": 34
        }
      ]
    },
    {
      "cell_type": "code",
      "source": [
        "# Try multiple condition statements with \"or\"\n",
        "(x > 5) or (y < 9) "
      ],
      "metadata": {
        "colab": {
          "base_uri": "https://localhost:8080/"
        },
        "id": "jCvgLvZ-YfY-",
        "outputId": "114af604-dc46-496a-fa4f-daa61ffc5726"
      },
      "execution_count": 35,
      "outputs": [
        {
          "output_type": "execute_result",
          "data": {
            "text/plain": [
              "True"
            ]
          },
          "metadata": {},
          "execution_count": 35
        }
      ]
    },
    {
      "cell_type": "markdown",
      "source": [
        "In python, `True` is mapped to `1` and `False` is mapped to `0`. This allows for math comparison within your programs.\n",
        "\n",
        "However, some people prefer only using `True` and `False` as this increases the readability for beginners."
      ],
      "metadata": {
        "id": "CfWAFxPnQbUn"
      }
    },
    {
      "cell_type": "code",
      "source": [
        "True == 1"
      ],
      "metadata": {
        "colab": {
          "base_uri": "https://localhost:8080/"
        },
        "id": "xbPxqHUeY25p",
        "outputId": "b3c81d7f-6f3a-4952-bd43-e8b90bc5d1da"
      },
      "execution_count": 36,
      "outputs": [
        {
          "output_type": "execute_result",
          "data": {
            "text/plain": [
              "True"
            ]
          },
          "metadata": {},
          "execution_count": 36
        }
      ]
    },
    {
      "cell_type": "code",
      "source": [
        "False == 0"
      ],
      "metadata": {
        "colab": {
          "base_uri": "https://localhost:8080/"
        },
        "id": "sppqxlsNY47s",
        "outputId": "77ba5946-5c6f-4e3b-9ec5-6fc22aea6d4a"
      },
      "execution_count": 37,
      "outputs": [
        {
          "output_type": "execute_result",
          "data": {
            "text/plain": [
              "True"
            ]
          },
          "metadata": {},
          "execution_count": 37
        }
      ]
    },
    {
      "cell_type": "markdown",
      "source": [
        "# Lists, Tuples, and Dictionaries Oh My!\n",
        "\n",
        "\n"
      ],
      "metadata": {
        "id": "Eqb8VAnVc8A2"
      }
    },
    {
      "cell_type": "markdown",
      "source": [
        "# NOTES\n",
        "\n",
        "Then introduce print functions and string manipulation when discussin strings, then conditional statements with the booleans and such.\n",
        "\n",
        "Discuss lists and list manipulation, along with for loops.\n",
        "\n",
        "Discuss both user defined and built in functions.\n",
        "\n",
        "Introduce different packages (numpy, scipy, etc.)\n",
        "\n",
        "Introduce matplotlib package and plotting\n",
        "\n",
        "Finish with having the students estimate pi via Monte Carlo methods (i.e. random point in a box, seeing which ones land in a circle and which ones land outside -> see inclasslab_Oct1.ipynb on Google colab, in my personal drive at the moment)\n",
        "\n",
        "Stress that the major three things in coding are 1. That is works/you get the right answer. 2. Readability (white space and commenting). 3. Efficiency\n",
        "\n",
        "Still need to look over python notebooks for the PHYS660 notebooks and see if there is anything I should definitely go over..."
      ],
      "metadata": {
        "id": "IWeu76OCEIx2"
      }
    }
  ]
}
