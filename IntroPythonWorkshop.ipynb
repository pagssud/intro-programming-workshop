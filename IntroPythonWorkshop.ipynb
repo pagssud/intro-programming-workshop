{
  "nbformat": 4,
  "nbformat_minor": 0,
  "metadata": {
    "colab": {
      "provenance": [],
      "authorship_tag": "ABX9TyOoUC9kAaZImSYKqY//wSv0",
      "include_colab_link": true
    },
    "kernelspec": {
      "name": "python3",
      "display_name": "Python 3"
    },
    "language_info": {
      "name": "python"
    }
  },
  "cells": [
    {
      "cell_type": "markdown",
      "metadata": {
        "id": "view-in-github",
        "colab_type": "text"
      },
      "source": [
        "<a href=\"https://colab.research.google.com/github/pagssud/intro-programming-workshop/blob/main/IntroPythonWorkshop.ipynb\" target=\"_parent\"><img src=\"https://colab.research.google.com/assets/colab-badge.svg\" alt=\"Open In Colab\"/></a>"
      ]
    },
    {
      "cell_type": "markdown",
      "source": [
        "# Brief Introduction\n",
        "\n",
        "Python is a programming language used to tell a compute how to do things. It takes input from the user and converts it to \"computer language\" such that these user-provided commands can be executed. Some advantages to python over other languages are it's both easy to use and well documented.\n",
        "\n",
        "One of the hardest parts about python (or programming in any language really!) is setting up your environment such that the software works and can \"talk\" to your computer and other libraries necessary to run your code. Luckily Google offers a free python notebook interface known as [Google Colab](https://colab.research.google.com/) which requires no setup other than a Google account. These notebooks are saved directly in your Google Drive and we will use this method of programming for the introduciton workshop. This eliminates the hassle of setting up python environments in different operating systems. \n",
        "\n"
      ],
      "metadata": {
        "id": "LF9va966J9Z9"
      }
    },
    {
      "cell_type": "markdown",
      "source": [
        "# Basics\n",
        "\n",
        "Python has many uses, one of which is just a simple calculator."
      ],
      "metadata": {
        "id": "BRof-k8KMfwj"
      }
    },
    {
      "cell_type": "code",
      "execution_count": 7,
      "metadata": {
        "id": "qMSXXQPb-KcO",
        "colab": {
          "base_uri": "https://localhost:8080/"
        },
        "outputId": "ff703ece-ec25-4ebe-a4d8-8580f2b6923c"
      },
      "outputs": [
        {
          "output_type": "execute_result",
          "data": {
            "text/plain": [
              "4"
            ]
          },
          "metadata": {},
          "execution_count": 7
        }
      ],
      "source": [
        "2 + 2"
      ]
    },
    {
      "cell_type": "markdown",
      "source": [
        "Another use is printing output to the notebook/terminal through use of the `print()` function. This function is a great way to test and debug your programs."
      ],
      "metadata": {
        "id": "T_ZSFmhnPkJA"
      }
    },
    {
      "cell_type": "code",
      "source": [
        "print(\"Hello World!\")"
      ],
      "metadata": {
        "colab": {
          "base_uri": "https://localhost:8080/"
        },
        "id": "vXPHwt5CQxrG",
        "outputId": "77faf8e2-044b-46ce-d3d2-8d23aa8a6b3f"
      },
      "execution_count": 8,
      "outputs": [
        {
          "output_type": "stream",
          "name": "stdout",
          "text": [
            "Hello World!\n"
          ]
        }
      ]
    },
    {
      "cell_type": "markdown",
      "source": [
        "In python notebooks, multiple lines of code can be written in the code boxes and then executed at once. This allows you to perform multiple calculations in one go. Although, only the last command will be printed to the notebook."
      ],
      "metadata": {
        "id": "_nXU_lbjM3BY"
      }
    },
    {
      "cell_type": "code",
      "source": [
        "4 - 3\n",
        "5 * 10"
      ],
      "metadata": {
        "colab": {
          "base_uri": "https://localhost:8080/"
        },
        "id": "KcL1pe7SMtib",
        "outputId": "e462349a-d478-4bb9-80cd-af4b8d49ef2f"
      },
      "execution_count": 9,
      "outputs": [
        {
          "output_type": "execute_result",
          "data": {
            "text/plain": [
              "50"
            ]
          },
          "metadata": {},
          "execution_count": 9
        }
      ]
    },
    {
      "cell_type": "markdown",
      "source": [
        "If you want to suppress all outputs then use a semicolon, `;`, at the end of the command."
      ],
      "metadata": {
        "id": "otxn3W8wNLzR"
      }
    },
    {
      "cell_type": "code",
      "source": [
        "4 - 3\n",
        "5 * 10;"
      ],
      "metadata": {
        "id": "P-7wirEsNEkD"
      },
      "execution_count": 10,
      "outputs": []
    },
    {
      "cell_type": "markdown",
      "source": [
        "Python also follows the order of operations (PEDMAS)"
      ],
      "metadata": {
        "id": "6QKppnqashoK"
      }
    },
    {
      "cell_type": "code",
      "source": [
        "(3 + 2) * 4"
      ],
      "metadata": {
        "colab": {
          "base_uri": "https://localhost:8080/"
        },
        "id": "-iDTWrfbspu3",
        "outputId": "7d982558-82d9-49b3-a56f-388243f87494"
      },
      "execution_count": 29,
      "outputs": [
        {
          "output_type": "execute_result",
          "data": {
            "text/plain": [
              "20"
            ]
          },
          "metadata": {},
          "execution_count": 29
        }
      ]
    },
    {
      "cell_type": "markdown",
      "source": [
        "In python, raising a value to an exponent is done using `**`."
      ],
      "metadata": {
        "id": "qte2nO9HNdJt"
      }
    },
    {
      "cell_type": "code",
      "source": [
        "2 ** 3"
      ],
      "metadata": {
        "colab": {
          "base_uri": "https://localhost:8080/"
        },
        "id": "aOp9vd6FNaYZ",
        "outputId": "feef18e8-4270-442c-9d8e-fba73d0deec7"
      },
      "execution_count": 11,
      "outputs": [
        {
          "output_type": "execute_result",
          "data": {
            "text/plain": [
              "8"
            ]
          },
          "metadata": {},
          "execution_count": 11
        }
      ]
    },
    {
      "cell_type": "markdown",
      "source": [
        "We can also define \"variables\" in python which are saved in the computers memory and can be accessed for later use in your code. Below `x` is considered a variable."
      ],
      "metadata": {
        "id": "UnQq36nVN_m6"
      }
    },
    {
      "cell_type": "code",
      "source": [
        "x = 3\n",
        "2 ** x"
      ],
      "metadata": {
        "colab": {
          "base_uri": "https://localhost:8080/"
        },
        "id": "831vXUcVN0DF",
        "outputId": "5cc1cdcf-f705-4ac8-c919-f5194549efb8"
      },
      "execution_count": 12,
      "outputs": [
        {
          "output_type": "execute_result",
          "data": {
            "text/plain": [
              "8"
            ]
          },
          "metadata": {},
          "execution_count": 12
        }
      ]
    },
    {
      "cell_type": "markdown",
      "source": [
        "Although you must be careful with variable definitions and the \"scope\" of your variables. Scope means the area of the code where your variables are accessible, but this is an advanced topic and will not be discussed until later.\n"
      ],
      "metadata": {
        "id": "SYrX5UYvOUWR"
      }
    },
    {
      "cell_type": "code",
      "source": [
        "a = 4\n",
        "b = a\n",
        "print(\"b =\", b, \"   a =\", a)\n",
        "\n",
        "a = 6\n",
        "print(\"b =\", b, \"   a =\", a)"
      ],
      "metadata": {
        "colab": {
          "base_uri": "https://localhost:8080/"
        },
        "id": "rE_tzUvtORkl",
        "outputId": "6f998a6b-183d-4d7e-f3eb-a58a8304c9cf"
      },
      "execution_count": 20,
      "outputs": [
        {
          "output_type": "stream",
          "name": "stdout",
          "text": [
            "b = 4    a = 4\n",
            "b = 4    a = 6\n"
          ]
        }
      ]
    },
    {
      "cell_type": "markdown",
      "source": [
        "Here even though `b` was defined as `a` changing the value of `a` did not change `b`. This is because in the computer memory `b` was stored as the VALUE of `a` but NOT as the variable `a` itself.\n",
        "\n",
        "This can be confusing at first but with time it will become easier to understand :)\n",
        "\n",
        "**NOTE:** Defining variables like `b = a` and then changing the value of `a` later in the code is poor programming and should not be done!"
      ],
      "metadata": {
        "id": "POv-NATuSaYR"
      }
    },
    {
      "cell_type": "markdown",
      "source": [
        "Division in python is also possible, with two different kinds. There is regular division (`/`) and division which discards any portion of the answer after the decimal (`//`). This second type is known as floor division. "
      ],
      "metadata": {
        "id": "w7XQb0P1pbvB"
      }
    },
    {
      "cell_type": "code",
      "source": [
        "print(9 / 4)\n",
        "print(9 // 4)"
      ],
      "metadata": {
        "colab": {
          "base_uri": "https://localhost:8080/"
        },
        "id": "pdw0mL8cRe9N",
        "outputId": "c438de55-5c89-4391-ed0d-ccfbc10d136f"
      },
      "execution_count": 27,
      "outputs": [
        {
          "output_type": "stream",
          "name": "stdout",
          "text": [
            "2.25\n",
            "2\n"
          ]
        }
      ]
    },
    {
      "cell_type": "markdown",
      "source": [
        "Note that regular and floor division return the same value if there is no remainder, although there are very slight differences in the output which are extremely important for python and programming in general..."
      ],
      "metadata": {
        "id": "oZfsCWkKs1vE"
      }
    },
    {
      "cell_type": "code",
      "source": [
        "print(9 / 3)\n",
        "print(9 // 3)"
      ],
      "metadata": {
        "colab": {
          "base_uri": "https://localhost:8080/"
        },
        "id": "o2LBbUA6sZ2l",
        "outputId": "60fd561c-b0b2-45e7-f4df-a076cbe7d8ed"
      },
      "execution_count": 30,
      "outputs": [
        {
          "output_type": "stream",
          "name": "stdout",
          "text": [
            "3.0\n",
            "3\n"
          ]
        }
      ]
    },
    {
      "cell_type": "markdown",
      "source": [
        "Why are there differences here? Because these two outputs are two different data types."
      ],
      "metadata": {
        "id": "6439Uy9HtTxE"
      }
    },
    {
      "cell_type": "markdown",
      "source": [
        "# Data Types\n",
        "\n",
        "In programming, there are many different data types including integers, floats, doubles, and booleans just to name a few. Each programming language has their own subtleties about different data types, including data types which may only exist in that language.\n",
        "\n",
        "Here we will discuss the python data types of integers (`int`), single-precision floats (`float32`), double-precision floats (`float64`), strings (`str`), booleans (`bool`), and complex numbers (`complex`)."
      ],
      "metadata": {
        "id": "V2PCYzOGtuYq"
      }
    },
    {
      "cell_type": "markdown",
      "source": [
        "Let's investigate the differences in the output from regular and floor division. We will use python's `type()` function to return the data type of the variables."
      ],
      "metadata": {
        "id": "NJJpwjyd0wde"
      }
    },
    {
      "cell_type": "code",
      "source": [
        "num = 9\n",
        "denom = 3\n",
        "\n",
        "regOutput = num / denom\n",
        "floorOutput = num // denom\n",
        "\n",
        "print(regOutput, \" type: \", type(regOutput) )\n",
        "print(floorOutput, \"   type: \", type(floorOutput) )"
      ],
      "metadata": {
        "colab": {
          "base_uri": "https://localhost:8080/"
        },
        "id": "X5yEDRjks0rN",
        "outputId": "3185e418-b4f1-4623-a42c-17b1fe5e17b0"
      },
      "execution_count": 40,
      "outputs": [
        {
          "output_type": "stream",
          "name": "stdout",
          "text": [
            "3.0  type:  <class 'float'>\n",
            "3    type:  <class 'int'>\n"
          ]
        }
      ]
    },
    {
      "cell_type": "markdown",
      "source": [
        "The data type returned for the regular divison is just a `float` so what is the difference between single-precision floats and double-precision floats?\n",
        "\n",
        "Single-precision floats contain 7 decimal digits of precision and take up 32 bits of storage in the computer memory (hence the `32` in `float32`). Double-precision floats contain 15 decimal digits of precision and take up 64 bits of storage.\n",
        "\n",
        "Double-precision floats require more computer memory to be used during execution of your code. Therefore, the user must be careful when working with large sets of double-precision data as this can slow down your code execution. \n",
        "\n",
        "Due to the intrinsic precision of floats you have to be careful of computer round-off errors."
      ],
      "metadata": {
        "id": "EhbvHWHe2UeN"
      }
    },
    {
      "cell_type": "markdown",
      "source": [
        "**NOTE:** It is good practice to add comments to your code so that you know what each part does when you come back in a few years or if your code is being read by someone else. Your future self with thank you!\n",
        "\n",
        "To add comments, just put a hashtag (`#`) at the beginning of the line. Commented lines will not be executed when the code is run."
      ],
      "metadata": {
        "id": "MsVICt4R8n6f"
      }
    },
    {
      "cell_type": "code",
      "source": [
        "# Define a double-precision float\n",
        "value = 2.000000000000009\n",
        "\n",
        "# Now add a very very small number\n",
        "newValue = value + 0.00000000000000005\n",
        "\n",
        "print(value)\n",
        "print(newValue)"
      ],
      "metadata": {
        "colab": {
          "base_uri": "https://localhost:8080/"
        },
        "id": "o51EEeQus8VQ",
        "outputId": "a7fb21aa-dfb7-4078-c36c-780ea01bf200"
      },
      "execution_count": 44,
      "outputs": [
        {
          "output_type": "stream",
          "name": "stdout",
          "text": [
            "2.000000000000009\n",
            "2.000000000000009\n"
          ]
        }
      ]
    },
    {
      "cell_type": "markdown",
      "source": [
        "Adding the very very small number did nothing due to the intrinsic precision of the computer. The topic of round-off error and potential ways to avoid problems from this subtlety will be covered in more detail in PHYS660."
      ],
      "metadata": {
        "id": "qJrjQFNZ9l8I"
      }
    },
    {
      "cell_type": "markdown",
      "source": [
        "Define `int` data types by just defining your variable as a number. Define `float` data types by inserting a `.` after the number. "
      ],
      "metadata": {
        "id": "P4_QIz0j_nv2"
      }
    },
    {
      "cell_type": "code",
      "source": [
        "# Define an int\n",
        "c = 7\n",
        "\n",
        "# Define a float\n",
        "d = 7.\n",
        "\n",
        "# Print the data types to see explicitly\n",
        "print( type(c) )\n",
        "print( type(d) )"
      ],
      "metadata": {
        "colab": {
          "base_uri": "https://localhost:8080/"
        },
        "id": "NNaVawPd9UCA",
        "outputId": "722d6d3c-0130-4cb6-c303-1dbadf8586d5"
      },
      "execution_count": 45,
      "outputs": [
        {
          "output_type": "stream",
          "name": "stdout",
          "text": [
            "<class 'int'>\n",
            "<class 'float'>\n"
          ]
        }
      ]
    },
    {
      "cell_type": "markdown",
      "source": [
        "`str` data types are defined by placing any collection of text, numbers, or words within either single or double quotes (`''` or `\"\"`)."
      ],
      "metadata": {
        "id": "wGNu9YKCAaBk"
      }
    },
    {
      "cell_type": "code",
      "source": [
        "string1 = 'This is a string.'\n",
        "string2 = \"This is also a string!\"\n",
        "\n",
        "# Strings can also contain numbers\n",
        "string3 = \"A string with numbers3333.\"\n",
        "\n",
        "# Strings can just be numbers themselves\n",
        "string4 = \"3\"\n",
        "\n",
        "# Check these are all strings\n",
        "print( type(string1), type(string2), type(string3), type(string4) )"
      ],
      "metadata": {
        "colab": {
          "base_uri": "https://localhost:8080/"
        },
        "id": "v_k4VAmaAYIe",
        "outputId": "58031a3c-e775-4347-8e4a-340da382b4b4"
      },
      "execution_count": 46,
      "outputs": [
        {
          "output_type": "stream",
          "name": "stdout",
          "text": [
            "<class 'str'> <class 'str'> <class 'str'> <class 'str'>\n"
          ]
        }
      ]
    },
    {
      "cell_type": "markdown",
      "source": [
        "You can also convert between `int`, `float`, and `str` data types if the value can be represented as another data type. Conversions are made using the `int()`, `float()`, and `str()` python functions respectively."
      ],
      "metadata": {
        "id": "NRd5tM5rBpal"
      }
    },
    {
      "cell_type": "code",
      "source": [
        "# Define an integer, float, and a string\n",
        "intVal = 10\n",
        "floatVal = 33.06\n",
        "strVal = \"6.5\"\n",
        "\n",
        "# Convert integer to string\n",
        "intToStr = str(intVal)\n",
        "\n",
        "# Convert float to integer (will cut off decimal points)\n",
        "floatToInt = int(floatVal)\n",
        "\n",
        "# Convert string to float\n",
        "strToFloat = float(strVal)\n",
        "\n",
        "# Output original and converted values\n",
        "print(\"Original (int):   \", intVal, \"     Converted to string: \", intToStr)\n",
        "print(\"Original (float): \", floatVal, \"  Converted to integer: \", floatToInt)\n",
        "print(\"Original (str):   \", strVal, \"    Converted to float: \", strToFloat)\n",
        "\n"
      ],
      "metadata": {
        "colab": {
          "base_uri": "https://localhost:8080/"
        },
        "id": "Mpbq9s-JBnpM",
        "outputId": "65c61d9f-f40e-425c-ece6-c72d169fecda"
      },
      "execution_count": 50,
      "outputs": [
        {
          "output_type": "stream",
          "name": "stdout",
          "text": [
            "Original (int):    10      Converted to string:  10\n",
            "Original (float):  33.06   Converted to integer:  33\n",
            "Original (str):    6.5     Converted to float:  6.5\n"
          ]
        }
      ]
    },
    {
      "cell_type": "markdown",
      "source": [
        "If we try to convert a `str` of words to a `float` or `int` then python will error because this is not possible."
      ],
      "metadata": {
        "id": "yqnnY30PDtEf"
      }
    },
    {
      "cell_type": "code",
      "source": [
        "name = \"Brandon\"\n",
        "\n",
        "convertName = float(name)"
      ],
      "metadata": {
        "colab": {
          "base_uri": "https://localhost:8080/",
          "height": 202
        },
        "id": "SKdpGBsLDa-U",
        "outputId": "38ddc69a-b4d4-4ec1-dbea-9ce3b895ae12"
      },
      "execution_count": 51,
      "outputs": [
        {
          "output_type": "error",
          "ename": "ValueError",
          "evalue": "ignored",
          "traceback": [
            "\u001b[0;31m---------------------------------------------------------------------------\u001b[0m",
            "\u001b[0;31mValueError\u001b[0m                                Traceback (most recent call last)",
            "\u001b[0;32m<ipython-input-51-0404973efea0>\u001b[0m in \u001b[0;36m<module>\u001b[0;34m\u001b[0m\n\u001b[1;32m      1\u001b[0m \u001b[0mname\u001b[0m \u001b[0;34m=\u001b[0m \u001b[0;34m\"Brandon\"\u001b[0m\u001b[0;34m\u001b[0m\u001b[0;34m\u001b[0m\u001b[0m\n\u001b[1;32m      2\u001b[0m \u001b[0;34m\u001b[0m\u001b[0m\n\u001b[0;32m----> 3\u001b[0;31m \u001b[0mconvertName\u001b[0m \u001b[0;34m=\u001b[0m \u001b[0mfloat\u001b[0m\u001b[0;34m(\u001b[0m\u001b[0mname\u001b[0m\u001b[0;34m)\u001b[0m\u001b[0;34m\u001b[0m\u001b[0;34m\u001b[0m\u001b[0m\n\u001b[0m",
            "\u001b[0;31mValueError\u001b[0m: could not convert string to float: 'Brandon'"
          ]
        }
      ]
    },
    {
      "cell_type": "code",
      "source": [],
      "metadata": {
        "id": "K_INxW17EC2W"
      },
      "execution_count": null,
      "outputs": []
    },
    {
      "cell_type": "markdown",
      "source": [
        "# NOTES\n",
        "\n",
        "First start out with basic arithmetic (add, subtract, exponents, etc.)\n",
        "\n",
        "Then show that 11 / 2 for example isn't 5.5 but 11. / 2 is... why? Data types!\n",
        "\n",
        "Introduce data types and the like (ints, floats, doubles, strings, booleans, ...)\n",
        "\n",
        "Then introduce print functions and string manipulation when discussin strings, then conditional statements with the booleans and such.\n",
        "\n",
        "Discuss lists and list manipulation, along with for loops.\n",
        "\n",
        "Discuss both user defined and built in functions.\n",
        "\n",
        "Introduce different packages (numpy, scipy, etc.)\n",
        "\n",
        "Introduce matplotlib package and plotting\n",
        "\n",
        "Finish with having the students estimate pi via Monte Carlo methods (i.e. random point in a box, seeing which ones land in a circle and which ones land outside -> see inclasslab_Oct1.ipynb on Google colab, in my personal drive at the moment)\n",
        "\n",
        "Stress that the major three things in coding are 1. That is works/you get the right answer. 2. Readability (white space and commenting). 3. Efficiency\n",
        "\n",
        "Still need to look over python notebooks for the PHYS660 notebooks and see if there is anything I should definitely go over..."
      ],
      "metadata": {
        "id": "IWeu76OCEIx2"
      }
    }
  ]
}